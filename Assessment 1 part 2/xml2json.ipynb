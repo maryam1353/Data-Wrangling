{
 "cells": [
  {
   "cell_type": "markdown",
   "metadata": {
    "id": "e9Dv6ZxEpxZN"
   },
   "source": [
    "# FIT5196 Part 2: XML parsing in Assessment 1\n",
    "\n",
    "\n",
    "\n",
    "Student Name: Maryam Mahmoodi\n",
    "\n",
    "Student ID: \n",
    "\n",
    "Version: 1.0\n",
    "\n",
    "Environment: Python XX and Jupyter notebook\n",
    "\n",
    "Libraries used: please include the main libraries you used in your assignment here, e.g.,:\n",
    "* pandas \n",
    "* re \n",
    "* numpy \n",
    "\n",
    "<font size=3, color=\"red\"> Note: this is a sample notebook only. You will need to fill in the proper markdown and code blocks. You might also want to make necessary changes to the structure to meet your own needs. It is important to make sure the logic of how you finish the assessment is clearly shown in this notebook! </font>"
   ]
  },
  {
   "cell_type": "markdown",
   "metadata": {
    "id": "BzrU77l0pxZP"
   },
   "source": [
    "## 1.  Import libraries "
   ]
  },
  {
   "cell_type": "code",
   "execution_count": 7,
   "metadata": {},
   "outputs": [
    {
     "name": "stdout",
     "output_type": "stream",
     "text": [
      "3.8.5\n"
     ]
    }
   ],
   "source": [
    "# The python version which used for this assignment \n",
    "\n",
    "from platform import python_version\n",
    "print(python_version())"
   ]
  },
  {
   "cell_type": "code",
   "execution_count": 8,
   "metadata": {
    "id": "sO8PvpkHpxZQ"
   },
   "outputs": [],
   "source": [
    "# Code to import libraries as you need in this assessment, e.g.,\n",
    "from bs4 import BeautifulSoup\n",
    "import json"
   ]
  },
  {
   "cell_type": "markdown",
   "metadata": {
    "id": "sA69D-E9pxZX"
   },
   "source": [
    "## 2. Parse XML File\n",
    "\n",
    "In this section, you can write your python scripts to parse the corresponding file.\n",
    "You should \n",
    "* write proper notes for all code block in this notebook using the Markdown cells\n",
    "* provide proper comment in your scripts\n",
    "* run all cells to make sure scripts are runable. If the scripts cannot be run by the assessors, they will not be assessed and zero mark will be given to the task."
   ]
  },
  {
   "cell_type": "code",
   "execution_count": 9,
   "metadata": {
    "id": "wDnW0IoFpxZa"
   },
   "outputs": [],
   "source": [
    "#Load xml\n",
    "xml_file = './xml.xml'\n",
    "btree = BeautifulSoup(open(xml_file, 'r',encoding=\"utf8\"), \"xml\")\n",
    "\n",
    "Terms = btree.select('Terms > Term')\n",
    "jsonObj = {\"thesaurus\": []}"
   ]
  },
  {
   "cell_type": "code",
   "execution_count": 10,
   "metadata": {
    "id": "FDQhOCqQpxZc"
   },
   "outputs": [],
   "source": [
    "#Extract relevant information\n",
    "for term in Terms:\n",
    "    termDetail = {\n",
    "        \"Description\": getattr(term.find('Description'), \"text\", None),\n",
    "        \n",
    "    }\n",
    "    RelatedTerms = term.select('RelatedTerms > Term')\n",
    "    if RelatedTerms:\n",
    "        termDetail[\"RelatedTerms\"] = []\n",
    "        for rterm in RelatedTerms:\n",
    "            termDetail[\"RelatedTerms\"].append({\n",
    "                \"Relationship\": getattr(rterm.find('Relationship'), \"text\", None),\n",
    "                \"Title\": getattr(rterm.find('Title'), \"text\", None)\n",
    "            })\n",
    "    termDetail[\"Title\"] = getattr(term.find('Title'), \"text\", None)\n",
    "    jsonObj[\"thesaurus\"].append(termDetail)"
   ]
  },
  {
   "cell_type": "code",
   "execution_count": 11,
   "metadata": {},
   "outputs": [],
   "source": [
    "# generate the object using json.dumps() \n",
    "# corresponding to json data\n",
    "json_data = json.dumps(jsonObj,indent=1)"
   ]
  },
  {
   "cell_type": "code",
   "execution_count": 12,
   "metadata": {},
   "outputs": [],
   "source": [
    "# Write the json data to output \n",
    "# json file\n",
    "with open(\"json.dat\", \"w\") as json_file:\n",
    "    json_file.write(json_data)\n",
    "    json_file.close()"
   ]
  },
  {
   "cell_type": "markdown",
   "metadata": {
    "id": "EcdPOIfSpxZe"
   },
   "source": [
    "## 3. Summary\n",
    "Give a short summary of your work done above, such as your findings."
   ]
  },
  {
   "cell_type": "markdown",
   "metadata": {},
   "source": [
    "1) read the data from xml.xml file. $\\newline$\n",
    "2) set the root node as thesaurus $\\newline$\n",
    "3) extract the top Term element with btree.select('Terms > Term'), then to extract RelatedTerms we loop for each top term and extract Term inside RelatedTerms using term.select('RelatedTerms > Term'). $\\newline$\n",
    "4) We then append all the parts together. $\\newline$\n",
    "5) finally we write all the output data into the json.data file $\\newline$\n",
    "\n",
    "thesaurus is the root node in the xml, which is displayed as a list of dictionaries (key : value pairs) in Python/JSON, in our case we have three keys \"Description\", \"RelatedTerms\" and \"Title\" for each element in the list.\n",
    "\n",
    "The Realted Terms is in turn a list of dictonary with keys \"Relationship\" and \"Title\"."
   ]
  }
 ],
 "metadata": {
  "colab": {
   "name": "xml2json.ipynb",
   "provenance": []
  },
  "kernelspec": {
   "display_name": "Python 3",
   "language": "python",
   "name": "python3"
  },
  "language_info": {
   "codemirror_mode": {
    "name": "ipython",
    "version": 3
   },
   "file_extension": ".py",
   "mimetype": "text/x-python",
   "name": "python",
   "nbconvert_exporter": "python",
   "pygments_lexer": "ipython3",
   "version": "3.8.5"
  }
 },
 "nbformat": 4,
 "nbformat_minor": 1
}
