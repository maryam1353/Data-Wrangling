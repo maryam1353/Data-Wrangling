{
 "cells": [
  {
   "cell_type": "markdown",
   "metadata": {},
   "source": [
    "# FIT5196 Assessment 2 Task2\n",
    "#### Student Name:  Maryam Mahmoodi\n",
    "#### Student ID:         30155843\n",
    "\n",
    "\n",
    "Date: 13/06/2020\n",
    "\n",
    "Version: 1.0\n",
    "\n",
    "Environment: Python 3.8.5 and Jupyter notebook\n",
    "\n",
    "Libraries used: please include the main libraries you used in your assignment here, e.g.,:\n",
    "* pandas \n",
    "* re \n",
    "* numpy\n",
    "* mpl\n",
    "* plt\n",
    "* pylab\n",
    "* math\n",
    "* statsmodels.api\n",
    "* sklearn.linear_model\n",
    "* datetime"
   ]
  },
  {
   "cell_type": "code",
   "execution_count": 1,
   "metadata": {},
   "outputs": [
    {
     "name": "stdout",
     "output_type": "stream",
     "text": [
      "3.8.5\n"
     ]
    }
   ],
   "source": [
    "from platform import python_version\n",
    "\n",
    "print(python_version())"
   ]
  },
  {
   "cell_type": "markdown",
   "metadata": {},
   "source": [
    "## Import libraries "
   ]
  },
  {
   "cell_type": "code",
   "execution_count": 2,
   "metadata": {},
   "outputs": [
    {
     "data": {
      "text/html": [
       "<style>body {\n",
       "    margin: 0;\n",
       "    font-family: Helvetica;\n",
       "}\n",
       "table.dataframe {\n",
       "    border-collapse: collapse;\n",
       "    border: none;\n",
       "}\n",
       "table.dataframe tr {\n",
       "    border: none;\n",
       "}\n",
       "table.dataframe td, table.dataframe th {\n",
       "    margin: 0;\n",
       "    border: 1px solid white;\n",
       "    padding-left: 0.25em;\n",
       "    padding-right: 0.25em;\n",
       "}\n",
       "table.dataframe th:not(:empty) {\n",
       "    background-color: #fec;\n",
       "    text-align: left;\n",
       "    font-weight: normal;\n",
       "}\n",
       "table.dataframe tr:nth-child(2) th:empty {\n",
       "    border-left: none;\n",
       "    border-right: 1px dashed #888;\n",
       "}\n",
       "table.dataframe td {\n",
       "    border: 2px solid #ccf;\n",
       "    background-color: #f4f4ff;\n",
       "}\n",
       "h3 {\n",
       "    color: white;\n",
       "    background-color: black;\n",
       "    padding: 0.5em;\n",
       "}\n",
       "</style>"
      ],
      "text/plain": [
       "<IPython.core.display.HTML object>"
      ]
     },
     "execution_count": 2,
     "metadata": {},
     "output_type": "execute_result"
    }
   ],
   "source": [
    "# Code to import libraries as you need in this assessment, e.g.,\n",
    "import pandas as pd\n",
    "\n",
    "# REGEX library to match strings\n",
    "import re\n",
    "\n",
    "# Mainly mathematical libraries to deal with stanstiscal modeling as well as maths\n",
    "import numpy as np\n",
    "import math\n",
    "import statsmodels.api as sm\n",
    "from sklearn.linear_model import LinearRegression\n",
    "\n",
    "# datetime lib to deal with open and close date data\n",
    "from datetime import datetime\n",
    "\n",
    "# Sequence matcher is used to cleanse categorical data and tries to find duplicate rows which are very similar\n",
    "# but distinguished mainly due to human error (e.g. typo)\n",
    "from difflib import SequenceMatcher\n",
    "\n",
    "\n",
    "# Better design plottings\n",
    "import matplotlib.pyplot as plt\n",
    "import matplotlib as mpl\n",
    "import matplotlib.pylab as pylab\n",
    "%matplotlib inline\n",
    "%matplotlib inline\n",
    "mpl.style.use( 'ggplot' )\n",
    "#Notebook displace setting\n",
    "from IPython.core.display import HTML\n",
    "css = open('style/style-table.css').read() + open('style/style-notebook.css').read()\n",
    "HTML('<style>{}</style>'.format(css))"
   ]
  },
  {
   "cell_type": "markdown",
   "metadata": {},
   "source": [
    "## I. Examin two data sets"
   ]
  },
  {
   "cell_type": "code",
   "execution_count": 3,
   "metadata": {},
   "outputs": [
    {
     "name": "stdout",
     "output_type": "stream",
     "text": [
      "S1:(40162, 11)\n"
     ]
    },
    {
     "data": {
      "text/html": [
       "<div>\n",
       "<style scoped>\n",
       "    .dataframe tbody tr th:only-of-type {\n",
       "        vertical-align: middle;\n",
       "    }\n",
       "\n",
       "    .dataframe tbody tr th {\n",
       "        vertical-align: top;\n",
       "    }\n",
       "\n",
       "    .dataframe thead th {\n",
       "        text-align: right;\n",
       "    }\n",
       "</style>\n",
       "<table border=\"1\" class=\"dataframe\">\n",
       "  <thead>\n",
       "    <tr style=\"text-align: right;\">\n",
       "      <th></th>\n",
       "      <th>Id</th>\n",
       "      <th>Title</th>\n",
       "      <th>Location</th>\n",
       "      <th>Company</th>\n",
       "      <th>ContractType</th>\n",
       "      <th>ContractTime</th>\n",
       "      <th>Category</th>\n",
       "      <th>Salary</th>\n",
       "      <th>OpenDate</th>\n",
       "      <th>CloseDate</th>\n",
       "      <th>Source</th>\n",
       "    </tr>\n",
       "  </thead>\n",
       "  <tbody>\n",
       "    <tr>\n",
       "      <th>0</th>\n",
       "      <td>12612628</td>\n",
       "      <td>ENGINEERING SYSTEMS ANALYST</td>\n",
       "      <td>DORKING</td>\n",
       "      <td>GREGORY MARTIN INTERNATIONAL</td>\n",
       "      <td>NON-SPECIFIED</td>\n",
       "      <td>PERMANENT</td>\n",
       "      <td>Engineering Jobs</td>\n",
       "      <td>25000.0</td>\n",
       "      <td>12PM, 8th July 2013</td>\n",
       "      <td>12PM, 6th September 2013</td>\n",
       "      <td>CVLIBRARY.CO.UK</td>\n",
       "    </tr>\n",
       "    <tr>\n",
       "      <th>1</th>\n",
       "      <td>12612830</td>\n",
       "      <td>STRESS ENGINEER GLASGOW</td>\n",
       "      <td>GLASGOW</td>\n",
       "      <td>GREGORY MARTIN INTERNATIONAL</td>\n",
       "      <td>NON-SPECIFIED</td>\n",
       "      <td>PERMANENT</td>\n",
       "      <td>Engineering Jobs</td>\n",
       "      <td>30000.0</td>\n",
       "      <td>12AM, 30th January 2012</td>\n",
       "      <td>12AM, 30th March 2012</td>\n",
       "      <td>CVLIBRARY.CO.UK</td>\n",
       "    </tr>\n",
       "    <tr>\n",
       "      <th>2</th>\n",
       "      <td>12612844</td>\n",
       "      <td>MODELLING &amp; SIMULATION ANALYST</td>\n",
       "      <td>HAMPSHIRE</td>\n",
       "      <td>GREGORY MARTIN INTERNATIONAL</td>\n",
       "      <td>NON-SPECIFIED</td>\n",
       "      <td>PERMANENT</td>\n",
       "      <td>Engineering Jobs</td>\n",
       "      <td>30000.0</td>\n",
       "      <td>3PM, 21st December 2012</td>\n",
       "      <td>3PM, 20th January 2013</td>\n",
       "      <td>CVLIBRARY.CO.UK</td>\n",
       "    </tr>\n",
       "  </tbody>\n",
       "</table>\n",
       "</div>"
      ],
      "text/plain": [
       "         Id                           Title   Location  \\\n",
       "0  12612628     ENGINEERING SYSTEMS ANALYST    DORKING   \n",
       "1  12612830         STRESS ENGINEER GLASGOW    GLASGOW   \n",
       "2  12612844  MODELLING & SIMULATION ANALYST  HAMPSHIRE   \n",
       "\n",
       "                        Company   ContractType ContractTime          Category  \\\n",
       "0  GREGORY MARTIN INTERNATIONAL  NON-SPECIFIED    PERMANENT  Engineering Jobs   \n",
       "1  GREGORY MARTIN INTERNATIONAL  NON-SPECIFIED    PERMANENT  Engineering Jobs   \n",
       "2  GREGORY MARTIN INTERNATIONAL  NON-SPECIFIED    PERMANENT  Engineering Jobs   \n",
       "\n",
       "    Salary                 OpenDate                 CloseDate           Source  \n",
       "0  25000.0      12PM, 8th July 2013  12PM, 6th September 2013  CVLIBRARY.CO.UK  \n",
       "1  30000.0  12AM, 30th January 2012     12AM, 30th March 2012  CVLIBRARY.CO.UK  \n",
       "2  30000.0  3PM, 21st December 2012    3PM, 20th January 2013  CVLIBRARY.CO.UK  "
      ]
     },
     "metadata": {},
     "output_type": "display_data"
    },
    {
     "name": "stdout",
     "output_type": "stream",
     "text": [
      "S2:(334, 9)\n"
     ]
    },
    {
     "data": {
      "text/html": [
       "<div>\n",
       "<style scoped>\n",
       "    .dataframe tbody tr th:only-of-type {\n",
       "        vertical-align: middle;\n",
       "    }\n",
       "\n",
       "    .dataframe tbody tr th {\n",
       "        vertical-align: top;\n",
       "    }\n",
       "\n",
       "    .dataframe thead th {\n",
       "        text-align: right;\n",
       "    }\n",
       "</style>\n",
       "<table border=\"1\" class=\"dataframe\">\n",
       "  <thead>\n",
       "    <tr style=\"text-align: right;\">\n",
       "      <th></th>\n",
       "      <th>Opening</th>\n",
       "      <th>Closing</th>\n",
       "      <th>Job Title</th>\n",
       "      <th>Organisation</th>\n",
       "      <th>Location</th>\n",
       "      <th>Category</th>\n",
       "      <th>Salary per month</th>\n",
       "      <th>Fraction</th>\n",
       "      <th>Contract Type</th>\n",
       "    </tr>\n",
       "  </thead>\n",
       "  <tbody>\n",
       "    <tr>\n",
       "      <th>0</th>\n",
       "      <td>2013-10-06 00:00:00</td>\n",
       "      <td>2013-12-05 00:00:00</td>\n",
       "      <td>Aviation loans administration</td>\n",
       "      <td>cer Financial</td>\n",
       "      <td>London</td>\n",
       "      <td>Finance and Accounting</td>\n",
       "      <td>2800</td>\n",
       "      <td>NaN</td>\n",
       "      <td>Contract</td>\n",
       "    </tr>\n",
       "    <tr>\n",
       "      <th>1</th>\n",
       "      <td>2012-10-03 12:00:00</td>\n",
       "      <td>2012-11-02 12:00:00</td>\n",
       "      <td>Payroll Analyst  City upto **** , ****</td>\n",
       "      <td>LMA Recruitment Ltd</td>\n",
       "      <td>London</td>\n",
       "      <td>Finance and Accounting</td>\n",
       "      <td>2917</td>\n",
       "      <td>NaN</td>\n",
       "      <td>Permanent</td>\n",
       "    </tr>\n",
       "    <tr>\n",
       "      <th>2</th>\n",
       "      <td>2012-01-01 00:00:00</td>\n",
       "      <td>2012-01-31 00:00:00</td>\n",
       "      <td>Investment Team Assistant for leading Private ...</td>\n",
       "      <td>Austin Andrew Ltd</td>\n",
       "      <td>London</td>\n",
       "      <td>Finance and Accounting</td>\n",
       "      <td>3750</td>\n",
       "      <td>NaN</td>\n",
       "      <td>Permanent</td>\n",
       "    </tr>\n",
       "  </tbody>\n",
       "</table>\n",
       "</div>"
      ],
      "text/plain": [
       "               Opening              Closing  \\\n",
       "0  2013-10-06 00:00:00  2013-12-05 00:00:00   \n",
       "1  2012-10-03 12:00:00  2012-11-02 12:00:00   \n",
       "2  2012-01-01 00:00:00  2012-01-31 00:00:00   \n",
       "\n",
       "                                           Job Title         Organisation  \\\n",
       "0                      Aviation loans administration        cer Financial   \n",
       "1             Payroll Analyst  City upto **** , ****  LMA Recruitment Ltd   \n",
       "2  Investment Team Assistant for leading Private ...    Austin Andrew Ltd   \n",
       "\n",
       "  Location                Category  Salary per month Fraction Contract Type  \n",
       "0   London  Finance and Accounting              2800      NaN      Contract  \n",
       "1   London  Finance and Accounting              2917      NaN     Permanent  \n",
       "2   London  Finance and Accounting              3750      NaN     Permanent  "
      ]
     },
     "metadata": {},
     "output_type": "display_data"
    }
   ],
   "source": [
    "# read in two data set\n",
    "df1 = pd.read_csv('dataset1_solution.csv')\n",
    "df2 = pd.read_csv(\"dataset2.csv\")\n",
    "# Display two dataframes together to compare\n",
    "print('S1:' + str(df1.shape))\n",
    "display(df1.head(3))\n",
    "print('S2:' + str(df2.shape))\n",
    "display(df2.head(3))"
   ]
  },
  {
   "cell_type": "code",
   "execution_count": 4,
   "metadata": {},
   "outputs": [
    {
     "name": "stdout",
     "output_type": "stream",
     "text": [
      "<class 'pandas.core.frame.DataFrame'>\n",
      "RangeIndex: 40162 entries, 0 to 40161\n",
      "Data columns (total 11 columns):\n",
      " #   Column        Non-Null Count  Dtype  \n",
      "---  ------        --------------  -----  \n",
      " 0   Id            40162 non-null  int64  \n",
      " 1   Title         40161 non-null  object \n",
      " 2   Location      40162 non-null  object \n",
      " 3   Company       39176 non-null  object \n",
      " 4   ContractType  40162 non-null  object \n",
      " 5   ContractTime  40162 non-null  object \n",
      " 6   Category      40162 non-null  object \n",
      " 7   Salary        40162 non-null  float64\n",
      " 8   OpenDate      40162 non-null  object \n",
      " 9   CloseDate     40162 non-null  object \n",
      " 10  Source        40162 non-null  object \n",
      "dtypes: float64(1), int64(1), object(9)\n",
      "memory usage: 3.4+ MB\n",
      "None\n",
      "<class 'pandas.core.frame.DataFrame'>\n",
      "RangeIndex: 334 entries, 0 to 333\n",
      "Data columns (total 9 columns):\n",
      " #   Column            Non-Null Count  Dtype \n",
      "---  ------            --------------  ----- \n",
      " 0   Opening           334 non-null    object\n",
      " 1   Closing           334 non-null    object\n",
      " 2   Job Title         334 non-null    object\n",
      " 3   Organisation      334 non-null    object\n",
      " 4   Location          334 non-null    object\n",
      " 5   Category          334 non-null    object\n",
      " 6   Salary per month  334 non-null    int64 \n",
      " 7   Fraction          3 non-null      object\n",
      " 8   Contract Type     327 non-null    object\n",
      "dtypes: int64(1), object(8)\n",
      "memory usage: 23.6+ KB\n",
      "None\n"
     ]
    }
   ],
   "source": [
    "print(df1.info())\n",
    "print(df2.info())"
   ]
  },
  {
   "cell_type": "markdown",
   "metadata": {},
   "source": [
    "## II. Resolve schema conflict"
   ]
  },
  {
   "cell_type": "markdown",
   "metadata": {},
   "source": [
    "### Schema conflict 1: datetime format differs in S1 and S2\n",
    "\n",
    "- Create consistency in Opening and Closing dates datetime format"
   ]
  },
  {
   "cell_type": "code",
   "execution_count": 5,
   "metadata": {},
   "outputs": [],
   "source": [
    "# Change the column name in S2 to conform with matching column in S1\n",
    "df2.rename(columns = {'Opening':'OpenDate'}, inplace = True)"
   ]
  },
  {
   "cell_type": "code",
   "execution_count": 6,
   "metadata": {},
   "outputs": [],
   "source": [
    "# Change the column name in S2 to conform with matching column in S1\n",
    "df2.rename(columns = {'Closing':'CloseDate'}, inplace = True)"
   ]
  },
  {
   "cell_type": "code",
   "execution_count": 7,
   "metadata": {},
   "outputs": [],
   "source": [
    "# Create a function to manage day suffix for 1st, 2nd, and 3rd and rest (th) day of each month\n",
    "\n",
    "def suffix(d):\n",
    "    return 'th' if 11<=d<=13 else {1:'st',2:'nd',3:'rd'}.get(d%10, 'th')\n",
    "\n",
    "def custom_strftime(format, t):\n",
    "    return t.strftime(format).replace('{S}', str(t.day) + suffix(t.day))"
   ]
  },
  {
   "cell_type": "code",
   "execution_count": 8,
   "metadata": {},
   "outputs": [],
   "source": [
    "# Following lines will match the date time based on the assessment's requirements\n",
    "\n",
    "formatted_OpenDate=[]\n",
    "for i in df2[\"OpenDate\"]:\n",
    "    try:\n",
    "        new_open_date = custom_strftime('%-I%p, {S} %B %Y', datetime.strptime(i, '%Y-%m-%d %H:%M:%S'))\n",
    "    except ValueError:\n",
    "        new_open_date = 0\n",
    "    formatted_OpenDate.append(new_open_date)\n",
    "formatted_OpenDate = formatted_OpenDate\n",
    "openDateS = pd.Series(data=formatted_OpenDate, index = df2.index)\n",
    "df2['OpenDate'] = openDateS"
   ]
  },
  {
   "cell_type": "code",
   "execution_count": 9,
   "metadata": {},
   "outputs": [],
   "source": [
    "# Following lines will match the date time based on the assessment's requirements\n",
    "\n",
    "formatted_CloseDate=[]\n",
    "for i in df2[\"CloseDate\"]:\n",
    "    try:\n",
    "        new_close_date = custom_strftime('%-I%p, {S} %B %Y', datetime.strptime(i, '%Y-%m-%d %H:%M:%S'))\n",
    "    except ValueError:\n",
    "        new_close_date = 0\n",
    "    formatted_CloseDate.append(new_close_date)\n",
    "formatted_CloseDate = formatted_CloseDate\n",
    "closeDateS = pd.Series(data=formatted_CloseDate, index = df2.index)\n",
    "df2['CloseDate'] = closeDateS"
   ]
  },
  {
   "cell_type": "markdown",
   "metadata": {},
   "source": [
    "### Schema conflict 2: Job title column has a different heading\n",
    "\n",
    "- Change the Job Title to 'Title' in S2"
   ]
  },
  {
   "cell_type": "code",
   "execution_count": 10,
   "metadata": {},
   "outputs": [],
   "source": [
    "df2.rename(columns = {'Job Title':'Title'}, inplace = True)"
   ]
  },
  {
   "cell_type": "markdown",
   "metadata": {},
   "source": [
    "### Schema conflict 3: Company column has a different heading\n",
    "\n",
    "- Change the name in S2"
   ]
  },
  {
   "cell_type": "code",
   "execution_count": 11,
   "metadata": {},
   "outputs": [],
   "source": [
    "# Change the column name in S2 to conform with matching column in S1\n",
    "\n",
    "df2.rename(columns = {'Organisation':'Company'}, inplace = True)"
   ]
  },
  {
   "cell_type": "markdown",
   "metadata": {},
   "source": [
    "### Schema conflict 4: No conflict in Category schema\n",
    "\n"
   ]
  },
  {
   "cell_type": "markdown",
   "metadata": {},
   "source": [
    "### Schema conflict 5: Salary\n",
    "- Covert the salary per month in S2 to annual salary, and rename to be consistent"
   ]
  },
  {
   "cell_type": "code",
   "execution_count": 12,
   "metadata": {},
   "outputs": [
    {
     "data": {
      "text/plain": [
       "0    33600\n",
       "1    35004\n",
       "2    45000\n",
       "3    39996\n",
       "4    39360\n",
       "Name: Salary, dtype: int64"
      ]
     },
     "execution_count": 12,
     "metadata": {},
     "output_type": "execute_result"
    }
   ],
   "source": [
    "# covert the salary per month in S2 to annual salary, and rename to be consistent\n",
    "df2['Salary per month'] = df2['Salary per month'].apply(lambda x: x*12)\n",
    "\n",
    "df2.rename(columns = {'Salary per month':'Salary'}, inplace = True)\n",
    "\n",
    "df2['Salary'].head()"
   ]
  },
  {
   "cell_type": "markdown",
   "metadata": {},
   "source": [
    "### Schema conflict 6: Contract type and time\n",
    "    - Rename heading in S2"
   ]
  },
  {
   "cell_type": "code",
   "execution_count": 13,
   "metadata": {},
   "outputs": [],
   "source": [
    "df2.rename(columns = {'Contract Type':'ContractTime'}, inplace = True)"
   ]
  },
  {
   "cell_type": "code",
   "execution_count": 14,
   "metadata": {},
   "outputs": [],
   "source": [
    "df2.rename(columns = {'Fraction':'ContractType'}, inplace = True)"
   ]
  },
  {
   "cell_type": "markdown",
   "metadata": {},
   "source": [
    "### Semantic mapping\n",
    "- 'Id' and 'Source' columns need to be removed from S1 since they don't exist in S2\n",
    "- The order of S2 needs to be aligned with S1"
   ]
  },
  {
   "cell_type": "code",
   "execution_count": 15,
   "metadata": {},
   "outputs": [],
   "source": [
    "del df1['Id']"
   ]
  },
  {
   "cell_type": "code",
   "execution_count": 16,
   "metadata": {},
   "outputs": [],
   "source": [
    "del df1['Source']"
   ]
  },
  {
   "cell_type": "code",
   "execution_count": 17,
   "metadata": {},
   "outputs": [
    {
     "name": "stdout",
     "output_type": "stream",
     "text": [
      "<class 'pandas.core.frame.DataFrame'>\n",
      "RangeIndex: 334 entries, 0 to 333\n",
      "Data columns (total 9 columns):\n",
      " #   Column        Non-Null Count  Dtype \n",
      "---  ------        --------------  ----- \n",
      " 0   OpenDate      334 non-null    object\n",
      " 1   CloseDate     334 non-null    object\n",
      " 2   Title         334 non-null    object\n",
      " 3   Company       334 non-null    object\n",
      " 4   Location      334 non-null    object\n",
      " 5   Category      334 non-null    object\n",
      " 6   Salary        334 non-null    int64 \n",
      " 7   ContractType  3 non-null      object\n",
      " 8   ContractTime  327 non-null    object\n",
      "dtypes: int64(1), object(8)\n",
      "memory usage: 23.6+ KB\n"
     ]
    }
   ],
   "source": [
    "df2.info()"
   ]
  },
  {
   "cell_type": "code",
   "execution_count": 18,
   "metadata": {},
   "outputs": [],
   "source": [
    "df2 = df2[['Title',\n",
    "'Location',\n",
    "'Company',\n",
    "'ContractType',\n",
    "'ContractTime',\n",
    "'Category',\n",
    "'OpenDate',\n",
    "'CloseDate',\n",
    "'Salary']]"
   ]
  },
  {
   "cell_type": "code",
   "execution_count": 19,
   "metadata": {},
   "outputs": [
    {
     "data": {
      "text/html": [
       "<div>\n",
       "<style scoped>\n",
       "    .dataframe tbody tr th:only-of-type {\n",
       "        vertical-align: middle;\n",
       "    }\n",
       "\n",
       "    .dataframe tbody tr th {\n",
       "        vertical-align: top;\n",
       "    }\n",
       "\n",
       "    .dataframe thead th {\n",
       "        text-align: right;\n",
       "    }\n",
       "</style>\n",
       "<table border=\"1\" class=\"dataframe\">\n",
       "  <thead>\n",
       "    <tr style=\"text-align: right;\">\n",
       "      <th></th>\n",
       "      <th>Title</th>\n",
       "      <th>Location</th>\n",
       "      <th>Company</th>\n",
       "      <th>ContractType</th>\n",
       "      <th>ContractTime</th>\n",
       "      <th>Category</th>\n",
       "      <th>Salary</th>\n",
       "      <th>OpenDate</th>\n",
       "      <th>CloseDate</th>\n",
       "    </tr>\n",
       "  </thead>\n",
       "  <tbody>\n",
       "    <tr>\n",
       "      <th>0</th>\n",
       "      <td>ENGINEERING SYSTEMS ANALYST</td>\n",
       "      <td>DORKING</td>\n",
       "      <td>GREGORY MARTIN INTERNATIONAL</td>\n",
       "      <td>NON-SPECIFIED</td>\n",
       "      <td>PERMANENT</td>\n",
       "      <td>Engineering Jobs</td>\n",
       "      <td>25000.0</td>\n",
       "      <td>12PM, 8th July 2013</td>\n",
       "      <td>12PM, 6th September 2013</td>\n",
       "    </tr>\n",
       "    <tr>\n",
       "      <th>1</th>\n",
       "      <td>STRESS ENGINEER GLASGOW</td>\n",
       "      <td>GLASGOW</td>\n",
       "      <td>GREGORY MARTIN INTERNATIONAL</td>\n",
       "      <td>NON-SPECIFIED</td>\n",
       "      <td>PERMANENT</td>\n",
       "      <td>Engineering Jobs</td>\n",
       "      <td>30000.0</td>\n",
       "      <td>12AM, 30th January 2012</td>\n",
       "      <td>12AM, 30th March 2012</td>\n",
       "    </tr>\n",
       "  </tbody>\n",
       "</table>\n",
       "</div>"
      ],
      "text/plain": [
       "                         Title Location                       Company  \\\n",
       "0  ENGINEERING SYSTEMS ANALYST  DORKING  GREGORY MARTIN INTERNATIONAL   \n",
       "1      STRESS ENGINEER GLASGOW  GLASGOW  GREGORY MARTIN INTERNATIONAL   \n",
       "\n",
       "    ContractType ContractTime          Category   Salary  \\\n",
       "0  NON-SPECIFIED    PERMANENT  Engineering Jobs  25000.0   \n",
       "1  NON-SPECIFIED    PERMANENT  Engineering Jobs  30000.0   \n",
       "\n",
       "                  OpenDate                 CloseDate  \n",
       "0      12PM, 8th July 2013  12PM, 6th September 2013  \n",
       "1  12AM, 30th January 2012     12AM, 30th March 2012  "
      ]
     },
     "execution_count": 19,
     "metadata": {},
     "output_type": "execute_result"
    }
   ],
   "source": [
    "df1.head(2)"
   ]
  },
  {
   "cell_type": "code",
   "execution_count": 20,
   "metadata": {},
   "outputs": [
    {
     "data": {
      "text/html": [
       "<div>\n",
       "<style scoped>\n",
       "    .dataframe tbody tr th:only-of-type {\n",
       "        vertical-align: middle;\n",
       "    }\n",
       "\n",
       "    .dataframe tbody tr th {\n",
       "        vertical-align: top;\n",
       "    }\n",
       "\n",
       "    .dataframe thead th {\n",
       "        text-align: right;\n",
       "    }\n",
       "</style>\n",
       "<table border=\"1\" class=\"dataframe\">\n",
       "  <thead>\n",
       "    <tr style=\"text-align: right;\">\n",
       "      <th></th>\n",
       "      <th>Title</th>\n",
       "      <th>Location</th>\n",
       "      <th>Company</th>\n",
       "      <th>ContractType</th>\n",
       "      <th>ContractTime</th>\n",
       "      <th>Category</th>\n",
       "      <th>OpenDate</th>\n",
       "      <th>CloseDate</th>\n",
       "      <th>Salary</th>\n",
       "    </tr>\n",
       "  </thead>\n",
       "  <tbody>\n",
       "    <tr>\n",
       "      <th>0</th>\n",
       "      <td>Aviation loans administration</td>\n",
       "      <td>London</td>\n",
       "      <td>cer Financial</td>\n",
       "      <td>NaN</td>\n",
       "      <td>Contract</td>\n",
       "      <td>Finance and Accounting</td>\n",
       "      <td>12AM, 6th October 2013</td>\n",
       "      <td>12AM, 5th December 2013</td>\n",
       "      <td>33600</td>\n",
       "    </tr>\n",
       "    <tr>\n",
       "      <th>1</th>\n",
       "      <td>Payroll Analyst  City upto **** , ****</td>\n",
       "      <td>London</td>\n",
       "      <td>LMA Recruitment Ltd</td>\n",
       "      <td>NaN</td>\n",
       "      <td>Permanent</td>\n",
       "      <td>Finance and Accounting</td>\n",
       "      <td>12PM, 3rd October 2012</td>\n",
       "      <td>12PM, 2nd November 2012</td>\n",
       "      <td>35004</td>\n",
       "    </tr>\n",
       "  </tbody>\n",
       "</table>\n",
       "</div>"
      ],
      "text/plain": [
       "                                    Title Location              Company  \\\n",
       "0           Aviation loans administration   London        cer Financial   \n",
       "1  Payroll Analyst  City upto **** , ****   London  LMA Recruitment Ltd   \n",
       "\n",
       "  ContractType ContractTime                Category                OpenDate  \\\n",
       "0          NaN     Contract  Finance and Accounting  12AM, 6th October 2013   \n",
       "1          NaN    Permanent  Finance and Accounting  12PM, 3rd October 2012   \n",
       "\n",
       "                 CloseDate  Salary  \n",
       "0  12AM, 5th December 2013   33600  \n",
       "1  12PM, 2nd November 2012   35004  "
      ]
     },
     "execution_count": 20,
     "metadata": {},
     "output_type": "execute_result"
    }
   ],
   "source": [
    "df2.head(2)"
   ]
  },
  {
   "cell_type": "code",
   "execution_count": 21,
   "metadata": {},
   "outputs": [
    {
     "name": "stdout",
     "output_type": "stream",
     "text": [
      "(40162, 9)\n",
      "(334, 9)\n"
     ]
    }
   ],
   "source": [
    "print(df1.shape)\n",
    "print(df2.shape)"
   ]
  },
  {
   "cell_type": "markdown",
   "metadata": {},
   "source": [
    "## Task 2. Integration\n",
    "- First, I need to audit if data in each column have a similar format and if not, normalise them\n",
    "- Second, we merge the to data sets\n",
    "- and at the end, we remove duplicates"
   ]
  },
  {
   "cell_type": "code",
   "execution_count": 22,
   "metadata": {},
   "outputs": [
    {
     "name": "stdout",
     "output_type": "stream",
     "text": [
      "Column Salary in df2: int64 to float64\n"
     ]
    }
   ],
   "source": [
    "# now adapt the datatypes in S2 to match S1\n",
    "for y in df1.columns:\n",
    "    if df2[y].dtype != df1[y].dtype:\n",
    "        print( \"Column \" + y + \" in df2: \"+ str(df2[y].dtype) + \" to \" + str(df1[y].dtype))\n",
    "        df2[y] = df2[y].astype(df1[y].dtype) "
   ]
  },
  {
   "cell_type": "markdown",
   "metadata": {},
   "source": [
    "### Merging the 2 data sets\n",
    "- Due to the fact that the column names are identical in both data sets and their records are cleansed and similar in terms of formatting, I will use the 'concat' function to attach S2 at the bottom of S1"
   ]
  },
  {
   "cell_type": "code",
   "execution_count": 23,
   "metadata": {
    "scrolled": true
   },
   "outputs": [
    {
     "name": "stdout",
     "output_type": "stream",
     "text": [
      "(40496, 9)\n"
     ]
    },
    {
     "data": {
      "text/html": [
       "<div>\n",
       "<style scoped>\n",
       "    .dataframe tbody tr th:only-of-type {\n",
       "        vertical-align: middle;\n",
       "    }\n",
       "\n",
       "    .dataframe tbody tr th {\n",
       "        vertical-align: top;\n",
       "    }\n",
       "\n",
       "    .dataframe thead th {\n",
       "        text-align: right;\n",
       "    }\n",
       "</style>\n",
       "<table border=\"1\" class=\"dataframe\">\n",
       "  <thead>\n",
       "    <tr style=\"text-align: right;\">\n",
       "      <th></th>\n",
       "      <th>Category</th>\n",
       "      <th>CloseDate</th>\n",
       "      <th>Company</th>\n",
       "      <th>ContractTime</th>\n",
       "      <th>ContractType</th>\n",
       "      <th>Location</th>\n",
       "      <th>OpenDate</th>\n",
       "      <th>Salary</th>\n",
       "      <th>Title</th>\n",
       "    </tr>\n",
       "  </thead>\n",
       "  <tbody>\n",
       "    <tr>\n",
       "      <th>0</th>\n",
       "      <td>Engineering Jobs</td>\n",
       "      <td>12PM, 6th September 2013</td>\n",
       "      <td>GREGORY MARTIN INTERNATIONAL</td>\n",
       "      <td>PERMANENT</td>\n",
       "      <td>NON-SPECIFIED</td>\n",
       "      <td>DORKING</td>\n",
       "      <td>12PM, 8th July 2013</td>\n",
       "      <td>25000.0</td>\n",
       "      <td>ENGINEERING SYSTEMS ANALYST</td>\n",
       "    </tr>\n",
       "    <tr>\n",
       "      <th>1</th>\n",
       "      <td>Engineering Jobs</td>\n",
       "      <td>12AM, 30th March 2012</td>\n",
       "      <td>GREGORY MARTIN INTERNATIONAL</td>\n",
       "      <td>PERMANENT</td>\n",
       "      <td>NON-SPECIFIED</td>\n",
       "      <td>GLASGOW</td>\n",
       "      <td>12AM, 30th January 2012</td>\n",
       "      <td>30000.0</td>\n",
       "      <td>STRESS ENGINEER GLASGOW</td>\n",
       "    </tr>\n",
       "    <tr>\n",
       "      <th>2</th>\n",
       "      <td>Engineering Jobs</td>\n",
       "      <td>3PM, 20th January 2013</td>\n",
       "      <td>GREGORY MARTIN INTERNATIONAL</td>\n",
       "      <td>PERMANENT</td>\n",
       "      <td>NON-SPECIFIED</td>\n",
       "      <td>HAMPSHIRE</td>\n",
       "      <td>3PM, 21st December 2012</td>\n",
       "      <td>30000.0</td>\n",
       "      <td>MODELLING &amp; SIMULATION ANALYST</td>\n",
       "    </tr>\n",
       "    <tr>\n",
       "      <th>3</th>\n",
       "      <td>Engineering Jobs</td>\n",
       "      <td>3PM, 6th February 2014</td>\n",
       "      <td>GREGORY MARTIN INTERNATIONAL</td>\n",
       "      <td>PERMANENT</td>\n",
       "      <td>NON-SPECIFIED</td>\n",
       "      <td>SURREY</td>\n",
       "      <td>3PM, 8th December 2013</td>\n",
       "      <td>27500.0</td>\n",
       "      <td>ENGINEERING SYSTEMS ANALYST MATHEMATICAL MODELLER</td>\n",
       "    </tr>\n",
       "    <tr>\n",
       "      <th>4</th>\n",
       "      <td>Engineering Jobs</td>\n",
       "      <td>12PM, 1st May 2013</td>\n",
       "      <td>GREGORY MARTIN INTERNATIONAL</td>\n",
       "      <td>PERMANENT</td>\n",
       "      <td>NON-SPECIFIED</td>\n",
       "      <td>SURREY</td>\n",
       "      <td>12PM, 2nd March 2013</td>\n",
       "      <td>25000.0</td>\n",
       "      <td>PIONEER MISER ENGINEERING SYSTEMS ANALYST</td>\n",
       "    </tr>\n",
       "  </tbody>\n",
       "</table>\n",
       "</div>"
      ],
      "text/plain": [
       "           Category                 CloseDate                       Company  \\\n",
       "0  Engineering Jobs  12PM, 6th September 2013  GREGORY MARTIN INTERNATIONAL   \n",
       "1  Engineering Jobs     12AM, 30th March 2012  GREGORY MARTIN INTERNATIONAL   \n",
       "2  Engineering Jobs    3PM, 20th January 2013  GREGORY MARTIN INTERNATIONAL   \n",
       "3  Engineering Jobs    3PM, 6th February 2014  GREGORY MARTIN INTERNATIONAL   \n",
       "4  Engineering Jobs        12PM, 1st May 2013  GREGORY MARTIN INTERNATIONAL   \n",
       "\n",
       "  ContractTime   ContractType   Location                 OpenDate   Salary  \\\n",
       "0    PERMANENT  NON-SPECIFIED    DORKING      12PM, 8th July 2013  25000.0   \n",
       "1    PERMANENT  NON-SPECIFIED    GLASGOW  12AM, 30th January 2012  30000.0   \n",
       "2    PERMANENT  NON-SPECIFIED  HAMPSHIRE  3PM, 21st December 2012  30000.0   \n",
       "3    PERMANENT  NON-SPECIFIED     SURREY   3PM, 8th December 2013  27500.0   \n",
       "4    PERMANENT  NON-SPECIFIED     SURREY     12PM, 2nd March 2013  25000.0   \n",
       "\n",
       "                                               Title  \n",
       "0                        ENGINEERING SYSTEMS ANALYST  \n",
       "1                            STRESS ENGINEER GLASGOW  \n",
       "2                     MODELLING & SIMULATION ANALYST  \n",
       "3  ENGINEERING SYSTEMS ANALYST MATHEMATICAL MODELLER  \n",
       "4          PIONEER MISER ENGINEERING SYSTEMS ANALYST  "
      ]
     },
     "execution_count": 23,
     "metadata": {},
     "output_type": "execute_result"
    }
   ],
   "source": [
    "df = pd.concat([df1,df2],sort=True)\n",
    "print(df.shape)\n",
    "df.head()"
   ]
  },
  {
   "cell_type": "code",
   "execution_count": 24,
   "metadata": {},
   "outputs": [
    {
     "data": {
      "text/html": [
       "<div>\n",
       "<style scoped>\n",
       "    .dataframe tbody tr th:only-of-type {\n",
       "        vertical-align: middle;\n",
       "    }\n",
       "\n",
       "    .dataframe tbody tr th {\n",
       "        vertical-align: top;\n",
       "    }\n",
       "\n",
       "    .dataframe thead th {\n",
       "        text-align: right;\n",
       "    }\n",
       "</style>\n",
       "<table border=\"1\" class=\"dataframe\">\n",
       "  <thead>\n",
       "    <tr style=\"text-align: right;\">\n",
       "      <th></th>\n",
       "      <th>Title</th>\n",
       "      <th>Location</th>\n",
       "      <th>Company</th>\n",
       "      <th>ContractType</th>\n",
       "      <th>ContractTime</th>\n",
       "      <th>Category</th>\n",
       "      <th>OpenDate</th>\n",
       "      <th>CloseDate</th>\n",
       "      <th>Salary</th>\n",
       "    </tr>\n",
       "  </thead>\n",
       "  <tbody>\n",
       "    <tr>\n",
       "      <th>0</th>\n",
       "      <td>ENGINEERING SYSTEMS ANALYST</td>\n",
       "      <td>DORKING</td>\n",
       "      <td>GREGORY MARTIN INTERNATIONAL</td>\n",
       "      <td>NON-SPECIFIED</td>\n",
       "      <td>PERMANENT</td>\n",
       "      <td>Engineering Jobs</td>\n",
       "      <td>12PM, 8th July 2013</td>\n",
       "      <td>12PM, 6th September 2013</td>\n",
       "      <td>25000.0</td>\n",
       "    </tr>\n",
       "    <tr>\n",
       "      <th>1</th>\n",
       "      <td>STRESS ENGINEER GLASGOW</td>\n",
       "      <td>GLASGOW</td>\n",
       "      <td>GREGORY MARTIN INTERNATIONAL</td>\n",
       "      <td>NON-SPECIFIED</td>\n",
       "      <td>PERMANENT</td>\n",
       "      <td>Engineering Jobs</td>\n",
       "      <td>12AM, 30th January 2012</td>\n",
       "      <td>12AM, 30th March 2012</td>\n",
       "      <td>30000.0</td>\n",
       "    </tr>\n",
       "    <tr>\n",
       "      <th>2</th>\n",
       "      <td>MODELLING &amp; SIMULATION ANALYST</td>\n",
       "      <td>HAMPSHIRE</td>\n",
       "      <td>GREGORY MARTIN INTERNATIONAL</td>\n",
       "      <td>NON-SPECIFIED</td>\n",
       "      <td>PERMANENT</td>\n",
       "      <td>Engineering Jobs</td>\n",
       "      <td>3PM, 21st December 2012</td>\n",
       "      <td>3PM, 20th January 2013</td>\n",
       "      <td>30000.0</td>\n",
       "    </tr>\n",
       "    <tr>\n",
       "      <th>3</th>\n",
       "      <td>ENGINEERING SYSTEMS ANALYST MATHEMATICAL MODELLER</td>\n",
       "      <td>SURREY</td>\n",
       "      <td>GREGORY MARTIN INTERNATIONAL</td>\n",
       "      <td>NON-SPECIFIED</td>\n",
       "      <td>PERMANENT</td>\n",
       "      <td>Engineering Jobs</td>\n",
       "      <td>3PM, 8th December 2013</td>\n",
       "      <td>3PM, 6th February 2014</td>\n",
       "      <td>27500.0</td>\n",
       "    </tr>\n",
       "    <tr>\n",
       "      <th>4</th>\n",
       "      <td>PIONEER MISER ENGINEERING SYSTEMS ANALYST</td>\n",
       "      <td>SURREY</td>\n",
       "      <td>GREGORY MARTIN INTERNATIONAL</td>\n",
       "      <td>NON-SPECIFIED</td>\n",
       "      <td>PERMANENT</td>\n",
       "      <td>Engineering Jobs</td>\n",
       "      <td>12PM, 2nd March 2013</td>\n",
       "      <td>12PM, 1st May 2013</td>\n",
       "      <td>25000.0</td>\n",
       "    </tr>\n",
       "  </tbody>\n",
       "</table>\n",
       "</div>"
      ],
      "text/plain": [
       "                                               Title   Location  \\\n",
       "0                        ENGINEERING SYSTEMS ANALYST    DORKING   \n",
       "1                            STRESS ENGINEER GLASGOW    GLASGOW   \n",
       "2                     MODELLING & SIMULATION ANALYST  HAMPSHIRE   \n",
       "3  ENGINEERING SYSTEMS ANALYST MATHEMATICAL MODELLER     SURREY   \n",
       "4          PIONEER MISER ENGINEERING SYSTEMS ANALYST     SURREY   \n",
       "\n",
       "                        Company   ContractType ContractTime          Category  \\\n",
       "0  GREGORY MARTIN INTERNATIONAL  NON-SPECIFIED    PERMANENT  Engineering Jobs   \n",
       "1  GREGORY MARTIN INTERNATIONAL  NON-SPECIFIED    PERMANENT  Engineering Jobs   \n",
       "2  GREGORY MARTIN INTERNATIONAL  NON-SPECIFIED    PERMANENT  Engineering Jobs   \n",
       "3  GREGORY MARTIN INTERNATIONAL  NON-SPECIFIED    PERMANENT  Engineering Jobs   \n",
       "4  GREGORY MARTIN INTERNATIONAL  NON-SPECIFIED    PERMANENT  Engineering Jobs   \n",
       "\n",
       "                  OpenDate                 CloseDate   Salary  \n",
       "0      12PM, 8th July 2013  12PM, 6th September 2013  25000.0  \n",
       "1  12AM, 30th January 2012     12AM, 30th March 2012  30000.0  \n",
       "2  3PM, 21st December 2012    3PM, 20th January 2013  30000.0  \n",
       "3   3PM, 8th December 2013    3PM, 6th February 2014  27500.0  \n",
       "4     12PM, 2nd March 2013        12PM, 1st May 2013  25000.0  "
      ]
     },
     "execution_count": 24,
     "metadata": {},
     "output_type": "execute_result"
    }
   ],
   "source": [
    "df = df[['Title',\n",
    "'Location',\n",
    "'Company',\n",
    "'ContractType',\n",
    "'ContractTime',\n",
    "'Category',\n",
    "'OpenDate',\n",
    "'CloseDate',\n",
    "'Salary']]\n",
    "df.head()"
   ]
  },
  {
   "cell_type": "markdown",
   "metadata": {},
   "source": [
    "### Resolve data conflicts:\n",
    "- At this stage, I have a finalised data frame. \n",
    "- However, I need to audit and remove any type of duplication in the finalised data set.\n",
    "- I will take two approach to ensure duplication removal:\n",
    "     1. I use all columns to look for duplicates, and then,\n",
    "     2. Based on each column's attribute, I use common sense to check if any 2 columns can be used as ordered\n",
    "        pair to find duplicates and if yes, remove the duplicate"
   ]
  },
  {
   "cell_type": "code",
   "execution_count": 25,
   "metadata": {},
   "outputs": [
    {
     "name": "stdout",
     "output_type": "stream",
     "text": [
      "There are 6 duplicate records found\n"
     ]
    },
    {
     "data": {
      "text/html": [
       "<div>\n",
       "<style scoped>\n",
       "    .dataframe tbody tr th:only-of-type {\n",
       "        vertical-align: middle;\n",
       "    }\n",
       "\n",
       "    .dataframe tbody tr th {\n",
       "        vertical-align: top;\n",
       "    }\n",
       "\n",
       "    .dataframe thead th {\n",
       "        text-align: right;\n",
       "    }\n",
       "</style>\n",
       "<table border=\"1\" class=\"dataframe\">\n",
       "  <thead>\n",
       "    <tr style=\"text-align: right;\">\n",
       "      <th></th>\n",
       "      <th>Title</th>\n",
       "      <th>Location</th>\n",
       "      <th>Company</th>\n",
       "      <th>ContractType</th>\n",
       "      <th>ContractTime</th>\n",
       "      <th>Category</th>\n",
       "      <th>OpenDate</th>\n",
       "      <th>CloseDate</th>\n",
       "      <th>Salary</th>\n",
       "    </tr>\n",
       "  </thead>\n",
       "  <tbody>\n",
       "    <tr>\n",
       "      <th>39645</th>\n",
       "      <td>BARCLAYS FUTURE LEADERS DEVELOPMENT PROGRAMMES</td>\n",
       "      <td>HACKNEY</td>\n",
       "      <td>BARCLAYS</td>\n",
       "      <td>NON-SPECIFIED</td>\n",
       "      <td>NON-SPECIFIED</td>\n",
       "      <td>IT Jobs</td>\n",
       "      <td>3PM, 23rd December 2012</td>\n",
       "      <td>3PM, 21st February 2013</td>\n",
       "      <td>36000.0</td>\n",
       "    </tr>\n",
       "    <tr>\n",
       "      <th>40161</th>\n",
       "      <td>BARCLAYS FUTURE LEADERS DEVELOPMENT PROGRAMMES</td>\n",
       "      <td>HACKNEY</td>\n",
       "      <td>BARCLAYS</td>\n",
       "      <td>NON-SPECIFIED</td>\n",
       "      <td>NON-SPECIFIED</td>\n",
       "      <td>IT Jobs</td>\n",
       "      <td>3PM, 23rd December 2012</td>\n",
       "      <td>3PM, 21st February 2013</td>\n",
       "      <td>36000.0</td>\n",
       "    </tr>\n",
       "    <tr>\n",
       "      <th>34408</th>\n",
       "      <td>PENSIONS ADMINISTRATORS TEMPORARYCONTRACT</td>\n",
       "      <td>UK</td>\n",
       "      <td>ABENEFIT2U</td>\n",
       "      <td>NON-SPECIFIED</td>\n",
       "      <td>CONTRACT</td>\n",
       "      <td>Accounting &amp; Finance Jobs</td>\n",
       "      <td>3PM, 1st August 2013</td>\n",
       "      <td>3PM, 31st August 2013</td>\n",
       "      <td>24000.0</td>\n",
       "    </tr>\n",
       "    <tr>\n",
       "      <th>40159</th>\n",
       "      <td>PENSIONS ADMINISTRATORS TEMPORARYCONTRACT</td>\n",
       "      <td>UK</td>\n",
       "      <td>ABENEFIT2U</td>\n",
       "      <td>NON-SPECIFIED</td>\n",
       "      <td>CONTRACT</td>\n",
       "      <td>Accounting &amp; Finance Jobs</td>\n",
       "      <td>3PM, 1st August 2013</td>\n",
       "      <td>3PM, 31st August 2013</td>\n",
       "      <td>24000.0</td>\n",
       "    </tr>\n",
       "    <tr>\n",
       "      <th>25098</th>\n",
       "      <td>SENIOR FINANCIAL ADVISOR</td>\n",
       "      <td>LONDON</td>\n",
       "      <td>FRAM EXECUTIVE SEARCH</td>\n",
       "      <td>NON-SPECIFIED</td>\n",
       "      <td>PERMANENT</td>\n",
       "      <td>Accounting &amp; Finance Jobs</td>\n",
       "      <td>12AM, 26th January 2013</td>\n",
       "      <td>12AM, 25th February 2013</td>\n",
       "      <td>40000.0</td>\n",
       "    </tr>\n",
       "    <tr>\n",
       "      <th>40160</th>\n",
       "      <td>SENIOR FINANCIAL ADVISOR</td>\n",
       "      <td>LONDON</td>\n",
       "      <td>FRAM EXECUTIVE SEARCH</td>\n",
       "      <td>NON-SPECIFIED</td>\n",
       "      <td>PERMANENT</td>\n",
       "      <td>Accounting &amp; Finance Jobs</td>\n",
       "      <td>12AM, 26th January 2013</td>\n",
       "      <td>12AM, 25th February 2013</td>\n",
       "      <td>40000.0</td>\n",
       "    </tr>\n",
       "  </tbody>\n",
       "</table>\n",
       "</div>"
      ],
      "text/plain": [
       "                                                Title Location  \\\n",
       "39645  BARCLAYS FUTURE LEADERS DEVELOPMENT PROGRAMMES  HACKNEY   \n",
       "40161  BARCLAYS FUTURE LEADERS DEVELOPMENT PROGRAMMES  HACKNEY   \n",
       "34408       PENSIONS ADMINISTRATORS TEMPORARYCONTRACT       UK   \n",
       "40159       PENSIONS ADMINISTRATORS TEMPORARYCONTRACT       UK   \n",
       "25098                        SENIOR FINANCIAL ADVISOR   LONDON   \n",
       "40160                        SENIOR FINANCIAL ADVISOR   LONDON   \n",
       "\n",
       "                     Company   ContractType   ContractTime  \\\n",
       "39645               BARCLAYS  NON-SPECIFIED  NON-SPECIFIED   \n",
       "40161               BARCLAYS  NON-SPECIFIED  NON-SPECIFIED   \n",
       "34408             ABENEFIT2U  NON-SPECIFIED       CONTRACT   \n",
       "40159             ABENEFIT2U  NON-SPECIFIED       CONTRACT   \n",
       "25098  FRAM EXECUTIVE SEARCH  NON-SPECIFIED      PERMANENT   \n",
       "40160  FRAM EXECUTIVE SEARCH  NON-SPECIFIED      PERMANENT   \n",
       "\n",
       "                        Category                 OpenDate  \\\n",
       "39645                    IT Jobs  3PM, 23rd December 2012   \n",
       "40161                    IT Jobs  3PM, 23rd December 2012   \n",
       "34408  Accounting & Finance Jobs     3PM, 1st August 2013   \n",
       "40159  Accounting & Finance Jobs     3PM, 1st August 2013   \n",
       "25098  Accounting & Finance Jobs  12AM, 26th January 2013   \n",
       "40160  Accounting & Finance Jobs  12AM, 26th January 2013   \n",
       "\n",
       "                      CloseDate   Salary  \n",
       "39645   3PM, 21st February 2013  36000.0  \n",
       "40161   3PM, 21st February 2013  36000.0  \n",
       "34408     3PM, 31st August 2013  24000.0  \n",
       "40159     3PM, 31st August 2013  24000.0  \n",
       "25098  12AM, 25th February 2013  40000.0  \n",
       "40160  12AM, 25th February 2013  40000.0  "
      ]
     },
     "execution_count": 25,
     "metadata": {},
     "output_type": "execute_result"
    }
   ],
   "source": [
    "# check duplication\n",
    "cols = df.columns.difference([]) # use all columns to check duplicates\n",
    "duplicates = df[df.duplicated(cols,keep=False)]\n",
    "print( \"There are \"+ str(len(duplicates)) + \" duplicate records found\")\n",
    "duplicates.sort_values(by=duplicates.columns.tolist()).head(10)"
   ]
  },
  {
   "cell_type": "code",
   "execution_count": 26,
   "metadata": {},
   "outputs": [
    {
     "data": {
      "text/plain": [
       "(40493, 9)"
      ]
     },
     "execution_count": 26,
     "metadata": {},
     "output_type": "execute_result"
    }
   ],
   "source": [
    "df = df.drop_duplicates(cols, keep='last')\n",
    "df.shape"
   ]
  },
  {
   "cell_type": "code",
   "execution_count": 27,
   "metadata": {
    "scrolled": false
   },
   "outputs": [
    {
     "name": "stdout",
     "output_type": "stream",
     "text": [
      "There are 4 duplicate records found\n"
     ]
    },
    {
     "data": {
      "text/html": [
       "<div>\n",
       "<style scoped>\n",
       "    .dataframe tbody tr th:only-of-type {\n",
       "        vertical-align: middle;\n",
       "    }\n",
       "\n",
       "    .dataframe tbody tr th {\n",
       "        vertical-align: top;\n",
       "    }\n",
       "\n",
       "    .dataframe thead th {\n",
       "        text-align: right;\n",
       "    }\n",
       "</style>\n",
       "<table border=\"1\" class=\"dataframe\">\n",
       "  <thead>\n",
       "    <tr style=\"text-align: right;\">\n",
       "      <th></th>\n",
       "      <th>Title</th>\n",
       "      <th>Location</th>\n",
       "      <th>Company</th>\n",
       "      <th>ContractType</th>\n",
       "      <th>ContractTime</th>\n",
       "      <th>Category</th>\n",
       "      <th>OpenDate</th>\n",
       "      <th>CloseDate</th>\n",
       "      <th>Salary</th>\n",
       "    </tr>\n",
       "  </thead>\n",
       "  <tbody>\n",
       "    <tr>\n",
       "      <th>20864</th>\n",
       "      <td>MANDARIN SPEAKING INTERNAL AUDITOR</td>\n",
       "      <td>LONDON</td>\n",
       "      <td>PEOPLE FIRST RECRUITMENT LTD</td>\n",
       "      <td>NON-SPECIFIED</td>\n",
       "      <td>PERMANENT</td>\n",
       "      <td>Accounting &amp; Finance Jobs</td>\n",
       "      <td>12PM, 25th July 2013</td>\n",
       "      <td>12PM, 23rd September 2013</td>\n",
       "      <td>22500.0</td>\n",
       "    </tr>\n",
       "    <tr>\n",
       "      <th>145</th>\n",
       "      <td>MANDARIN SPEAKING INTERNAL AUDITOR</td>\n",
       "      <td>London</td>\n",
       "      <td>People First Recruitment Limited</td>\n",
       "      <td>NaN</td>\n",
       "      <td>Permanent</td>\n",
       "      <td>Finance and Accounting</td>\n",
       "      <td>12PM, 25th July 2013</td>\n",
       "      <td>12PM, 23rd September 2013</td>\n",
       "      <td>22500.0</td>\n",
       "    </tr>\n",
       "    <tr>\n",
       "      <th>11072</th>\n",
       "      <td>MOTOR CLAIMS COMPLAINTS TEAM LEADER</td>\n",
       "      <td>UK</td>\n",
       "      <td>CLARK JAMES LTD</td>\n",
       "      <td>NON-SPECIFIED</td>\n",
       "      <td>PERMANENT</td>\n",
       "      <td>Accounting &amp; Finance Jobs</td>\n",
       "      <td>12AM, 2nd February 2013</td>\n",
       "      <td>12AM, 3rd April 2013</td>\n",
       "      <td>26500.0</td>\n",
       "    </tr>\n",
       "    <tr>\n",
       "      <th>295</th>\n",
       "      <td>MOTOR CLAIMS COMPLAINTS TEAM LEADER</td>\n",
       "      <td>UK</td>\n",
       "      <td>Clark James Ltd</td>\n",
       "      <td>NaN</td>\n",
       "      <td>Permanent</td>\n",
       "      <td>Finance and Accounting</td>\n",
       "      <td>12AM, 2nd February 2013</td>\n",
       "      <td>12AM, 3rd April 2013</td>\n",
       "      <td>26496.0</td>\n",
       "    </tr>\n",
       "  </tbody>\n",
       "</table>\n",
       "</div>"
      ],
      "text/plain": [
       "                                     Title Location  \\\n",
       "20864   MANDARIN SPEAKING INTERNAL AUDITOR   LONDON   \n",
       "145     MANDARIN SPEAKING INTERNAL AUDITOR   London   \n",
       "11072  MOTOR CLAIMS COMPLAINTS TEAM LEADER       UK   \n",
       "295    MOTOR CLAIMS COMPLAINTS TEAM LEADER       UK   \n",
       "\n",
       "                                Company   ContractType ContractTime  \\\n",
       "20864      PEOPLE FIRST RECRUITMENT LTD  NON-SPECIFIED    PERMANENT   \n",
       "145    People First Recruitment Limited            NaN    Permanent   \n",
       "11072                   CLARK JAMES LTD  NON-SPECIFIED    PERMANENT   \n",
       "295                     Clark James Ltd            NaN    Permanent   \n",
       "\n",
       "                        Category                 OpenDate  \\\n",
       "20864  Accounting & Finance Jobs     12PM, 25th July 2013   \n",
       "145       Finance and Accounting     12PM, 25th July 2013   \n",
       "11072  Accounting & Finance Jobs  12AM, 2nd February 2013   \n",
       "295       Finance and Accounting  12AM, 2nd February 2013   \n",
       "\n",
       "                       CloseDate   Salary  \n",
       "20864  12PM, 23rd September 2013  22500.0  \n",
       "145    12PM, 23rd September 2013  22500.0  \n",
       "11072       12AM, 3rd April 2013  26500.0  \n",
       "295         12AM, 3rd April 2013  26496.0  "
      ]
     },
     "execution_count": 27,
     "metadata": {},
     "output_type": "execute_result"
    }
   ],
   "source": [
    "# check duplication - whether the same title is advertised multiple times in the same date.\n",
    "cols = ['Title','OpenDate']  \n",
    "duplicates = df[df.duplicated(cols,keep=False)]\n",
    "print( \"There are \"+ str(len(duplicates)) + \" duplicate records found\")\n",
    "duplicates.sort_values(by=duplicates.columns.tolist()).head(10)"
   ]
  },
  {
   "cell_type": "markdown",
   "metadata": {},
   "source": [
    "- Interestingly, we find two duplicate pairs, therefore, I remove one from each and keep the last one."
   ]
  },
  {
   "cell_type": "code",
   "execution_count": 28,
   "metadata": {},
   "outputs": [
    {
     "data": {
      "text/plain": [
       "(40491, 9)"
      ]
     },
     "execution_count": 28,
     "metadata": {},
     "output_type": "execute_result"
    }
   ],
   "source": [
    "df = df.drop_duplicates(cols, keep='last')\n",
    "df.shape"
   ]
  },
  {
   "cell_type": "code",
   "execution_count": 29,
   "metadata": {},
   "outputs": [
    {
     "name": "stdout",
     "output_type": "stream",
     "text": [
      "There are 0 duplicate records found\n"
     ]
    },
    {
     "data": {
      "text/html": [
       "<div>\n",
       "<style scoped>\n",
       "    .dataframe tbody tr th:only-of-type {\n",
       "        vertical-align: middle;\n",
       "    }\n",
       "\n",
       "    .dataframe tbody tr th {\n",
       "        vertical-align: top;\n",
       "    }\n",
       "\n",
       "    .dataframe thead th {\n",
       "        text-align: right;\n",
       "    }\n",
       "</style>\n",
       "<table border=\"1\" class=\"dataframe\">\n",
       "  <thead>\n",
       "    <tr style=\"text-align: right;\">\n",
       "      <th></th>\n",
       "      <th>Title</th>\n",
       "      <th>Location</th>\n",
       "      <th>Company</th>\n",
       "      <th>ContractType</th>\n",
       "      <th>ContractTime</th>\n",
       "      <th>Category</th>\n",
       "      <th>OpenDate</th>\n",
       "      <th>CloseDate</th>\n",
       "      <th>Salary</th>\n",
       "    </tr>\n",
       "  </thead>\n",
       "  <tbody>\n",
       "  </tbody>\n",
       "</table>\n",
       "</div>"
      ],
      "text/plain": [
       "Empty DataFrame\n",
       "Columns: [Title, Location, Company, ContractType, ContractTime, Category, OpenDate, CloseDate, Salary]\n",
       "Index: []"
      ]
     },
     "execution_count": 29,
     "metadata": {},
     "output_type": "execute_result"
    }
   ],
   "source": [
    "# check duplication - Similar to previous line, checking the title and Closing date pair\n",
    "cols = ['Title','CloseDate'] \n",
    "duplicates = df[df.duplicated(cols,keep=False)]\n",
    "print( \"There are \"+ str(len(duplicates)) + \" duplicate records found\")\n",
    "duplicates.sort_values(by=duplicates.columns.tolist()).head(10)"
   ]
  },
  {
   "cell_type": "code",
   "execution_count": 30,
   "metadata": {
    "scrolled": true
   },
   "outputs": [
    {
     "name": "stdout",
     "output_type": "stream",
     "text": [
      "There are 4 duplicate records found\n"
     ]
    },
    {
     "data": {
      "text/html": [
       "<div>\n",
       "<style scoped>\n",
       "    .dataframe tbody tr th:only-of-type {\n",
       "        vertical-align: middle;\n",
       "    }\n",
       "\n",
       "    .dataframe tbody tr th {\n",
       "        vertical-align: top;\n",
       "    }\n",
       "\n",
       "    .dataframe thead th {\n",
       "        text-align: right;\n",
       "    }\n",
       "</style>\n",
       "<table border=\"1\" class=\"dataframe\">\n",
       "  <thead>\n",
       "    <tr style=\"text-align: right;\">\n",
       "      <th></th>\n",
       "      <th>Title</th>\n",
       "      <th>Location</th>\n",
       "      <th>Company</th>\n",
       "      <th>ContractType</th>\n",
       "      <th>ContractTime</th>\n",
       "      <th>Category</th>\n",
       "      <th>OpenDate</th>\n",
       "      <th>CloseDate</th>\n",
       "      <th>Salary</th>\n",
       "    </tr>\n",
       "  </thead>\n",
       "  <tbody>\n",
       "    <tr>\n",
       "      <th>13485</th>\n",
       "      <td>BUSINESS SUPPORT ANALYST WITH SQL &amp; CRYSTAL RE...</td>\n",
       "      <td>NORTH LAMBETH</td>\n",
       "      <td>THE OAKLAND PARTNERSHIP</td>\n",
       "      <td>NON-SPECIFIED</td>\n",
       "      <td>PERMANENT</td>\n",
       "      <td>Accounting &amp; Finance Jobs</td>\n",
       "      <td>3PM, 1st January 2012</td>\n",
       "      <td>3PM, 1st March 2012</td>\n",
       "      <td>45000.0</td>\n",
       "    </tr>\n",
       "    <tr>\n",
       "      <th>2214</th>\n",
       "      <td>BUSINESS SUPPORT ANALYST WITH SQL &amp; CRYSTAL RE...</td>\n",
       "      <td>NORTH LONDON</td>\n",
       "      <td>THE OAKLAND PARTNERSHIP</td>\n",
       "      <td>NON-SPECIFIED</td>\n",
       "      <td>PERMANENT</td>\n",
       "      <td>Accounting &amp; Finance Jobs</td>\n",
       "      <td>12AM, 26th January 2012</td>\n",
       "      <td>12AM, 25th February 2012</td>\n",
       "      <td>45000.0</td>\n",
       "    </tr>\n",
       "    <tr>\n",
       "      <th>22266</th>\n",
       "      <td>DATA CENTRE ENGINEER ELECTRICAL &amp; MECHANICAL</td>\n",
       "      <td>UK</td>\n",
       "      <td>OMNI RESOURCE MANAGEMENT SOLUTIONS</td>\n",
       "      <td>NON-SPECIFIED</td>\n",
       "      <td>PERMANENT</td>\n",
       "      <td>Engineering Jobs</td>\n",
       "      <td>3PM, 22nd August 2012</td>\n",
       "      <td>3PM, 20th November 2012</td>\n",
       "      <td>32000.0</td>\n",
       "    </tr>\n",
       "    <tr>\n",
       "      <th>32453</th>\n",
       "      <td>DATA CENTRE ENGINEER ELECTRICAL &amp; MECHANICAL</td>\n",
       "      <td>YORKSHIRE &amp; HUMBERSIDE</td>\n",
       "      <td>OMNI RESOURCE MANAGEMENT SOLUTIONS</td>\n",
       "      <td>FULLTIME</td>\n",
       "      <td>PERMANENT</td>\n",
       "      <td>Engineering Jobs</td>\n",
       "      <td>3PM, 22nd November 2013</td>\n",
       "      <td>3PM, 22nd December 2013</td>\n",
       "      <td>28500.0</td>\n",
       "    </tr>\n",
       "  </tbody>\n",
       "</table>\n",
       "</div>"
      ],
      "text/plain": [
       "                                                   Title  \\\n",
       "13485  BUSINESS SUPPORT ANALYST WITH SQL & CRYSTAL RE...   \n",
       "2214   BUSINESS SUPPORT ANALYST WITH SQL & CRYSTAL RE...   \n",
       "22266       DATA CENTRE ENGINEER ELECTRICAL & MECHANICAL   \n",
       "32453       DATA CENTRE ENGINEER ELECTRICAL & MECHANICAL   \n",
       "\n",
       "                     Location                             Company  \\\n",
       "13485           NORTH LAMBETH             THE OAKLAND PARTNERSHIP   \n",
       "2214             NORTH LONDON             THE OAKLAND PARTNERSHIP   \n",
       "22266                      UK  OMNI RESOURCE MANAGEMENT SOLUTIONS   \n",
       "32453  YORKSHIRE & HUMBERSIDE  OMNI RESOURCE MANAGEMENT SOLUTIONS   \n",
       "\n",
       "        ContractType ContractTime                   Category  \\\n",
       "13485  NON-SPECIFIED    PERMANENT  Accounting & Finance Jobs   \n",
       "2214   NON-SPECIFIED    PERMANENT  Accounting & Finance Jobs   \n",
       "22266  NON-SPECIFIED    PERMANENT           Engineering Jobs   \n",
       "32453       FULLTIME    PERMANENT           Engineering Jobs   \n",
       "\n",
       "                      OpenDate                 CloseDate   Salary  \n",
       "13485    3PM, 1st January 2012       3PM, 1st March 2012  45000.0  \n",
       "2214   12AM, 26th January 2012  12AM, 25th February 2012  45000.0  \n",
       "22266    3PM, 22nd August 2012   3PM, 20th November 2012  32000.0  \n",
       "32453  3PM, 22nd November 2013   3PM, 22nd December 2013  28500.0  "
      ]
     },
     "execution_count": 30,
     "metadata": {},
     "output_type": "execute_result"
    }
   ],
   "source": [
    "# check duplication - Similar to previous line, checking the title and Company date pair\n",
    "cols = ['Title', 'Company'] \n",
    "duplicates = df[df.duplicated(cols,keep=False)]\n",
    "print( \"There are \"+ str(len(duplicates)) + \" duplicate records found\")\n",
    "duplicates.sort_values(by=duplicates.columns.tolist()).head(12)"
   ]
  },
  {
   "cell_type": "markdown",
   "metadata": {},
   "source": [
    "- Four duplicates are identified, but we DO NOT remove them since they are not really duplicates."
   ]
  },
  {
   "cell_type": "code",
   "execution_count": 31,
   "metadata": {
    "scrolled": false
   },
   "outputs": [
    {
     "name": "stdout",
     "output_type": "stream",
     "text": [
      "There are 12 duplicate records found\n"
     ]
    },
    {
     "data": {
      "text/html": [
       "<div>\n",
       "<style scoped>\n",
       "    .dataframe tbody tr th:only-of-type {\n",
       "        vertical-align: middle;\n",
       "    }\n",
       "\n",
       "    .dataframe tbody tr th {\n",
       "        vertical-align: top;\n",
       "    }\n",
       "\n",
       "    .dataframe thead th {\n",
       "        text-align: right;\n",
       "    }\n",
       "</style>\n",
       "<table border=\"1\" class=\"dataframe\">\n",
       "  <thead>\n",
       "    <tr style=\"text-align: right;\">\n",
       "      <th></th>\n",
       "      <th>Title</th>\n",
       "      <th>Location</th>\n",
       "      <th>Company</th>\n",
       "      <th>ContractType</th>\n",
       "      <th>ContractTime</th>\n",
       "      <th>Category</th>\n",
       "      <th>OpenDate</th>\n",
       "      <th>CloseDate</th>\n",
       "      <th>Salary</th>\n",
       "    </tr>\n",
       "  </thead>\n",
       "  <tbody>\n",
       "    <tr>\n",
       "      <th>19031</th>\n",
       "      <td>FINANCE PLANNING &amp; SALES COORDINATION ASSISTANT</td>\n",
       "      <td>SLOUGH</td>\n",
       "      <td>UKSTAFFSEARCH</td>\n",
       "      <td>FULLTIME</td>\n",
       "      <td>PERMANENT</td>\n",
       "      <td>Sales Jobs</td>\n",
       "      <td>12PM, 9th January 2013</td>\n",
       "      <td>12PM, 10th March 2013</td>\n",
       "      <td>24000.0</td>\n",
       "    </tr>\n",
       "    <tr>\n",
       "      <th>9212</th>\n",
       "      <td>FINANCE PLANNING &amp; SALES COORDINATION ASSISTANT</td>\n",
       "      <td>SLOUGH</td>\n",
       "      <td>NaN</td>\n",
       "      <td>NON-SPECIFIED</td>\n",
       "      <td>PERMANENT</td>\n",
       "      <td>IT Jobs</td>\n",
       "      <td>12AM, 20th June 2012</td>\n",
       "      <td>12AM, 18th September 2012</td>\n",
       "      <td>23000.0</td>\n",
       "    </tr>\n",
       "    <tr>\n",
       "      <th>34762</th>\n",
       "      <td>GENERAL MANAGER BRANDED PUB &amp; RESTAURANT LIVE ...</td>\n",
       "      <td>SOUTH EAST LONDON</td>\n",
       "      <td>DETAIL 2 RETAIL LTD</td>\n",
       "      <td>NON-SPECIFIED</td>\n",
       "      <td>PERMANENT</td>\n",
       "      <td>Hospitality &amp; Catering Jobs</td>\n",
       "      <td>12AM, 27th August 2012</td>\n",
       "      <td>12AM, 26th September 2012</td>\n",
       "      <td>24500.0</td>\n",
       "    </tr>\n",
       "    <tr>\n",
       "      <th>31111</th>\n",
       "      <td>GENERAL MANAGER BRANDED PUB &amp; RESTAURANT LIVE ...</td>\n",
       "      <td>SOUTH EAST LONDON</td>\n",
       "      <td>DETAIL2LEISURE</td>\n",
       "      <td>NON-SPECIFIED</td>\n",
       "      <td>PERMANENT</td>\n",
       "      <td>Hospitality &amp; Catering Jobs</td>\n",
       "      <td>12AM, 30th October 2012</td>\n",
       "      <td>12AM, 29th December 2012</td>\n",
       "      <td>24500.0</td>\n",
       "    </tr>\n",
       "    <tr>\n",
       "      <th>36663</th>\n",
       "      <td>MARKETING PR &amp; COMMUNICATIONS MANAGER</td>\n",
       "      <td>BLACKPOOL</td>\n",
       "      <td>SPRING PERSONNEL</td>\n",
       "      <td>NON-SPECIFIED</td>\n",
       "      <td>PERMANENT</td>\n",
       "      <td>PR, Advertising &amp; Marketing Jobs</td>\n",
       "      <td>12PM, 2nd February 2013</td>\n",
       "      <td>12PM, 4th March 2013</td>\n",
       "      <td>22500.0</td>\n",
       "    </tr>\n",
       "    <tr>\n",
       "      <th>19132</th>\n",
       "      <td>MARKETING PR &amp; COMMUNICATIONS MANAGER</td>\n",
       "      <td>BLACKPOOL</td>\n",
       "      <td>NaN</td>\n",
       "      <td>FULLTIME</td>\n",
       "      <td>NON-SPECIFIED</td>\n",
       "      <td>PR, Advertising &amp; Marketing Jobs</td>\n",
       "      <td>3PM, 28th September 2013</td>\n",
       "      <td>3PM, 28th October 2013</td>\n",
       "      <td>22500.0</td>\n",
       "    </tr>\n",
       "    <tr>\n",
       "      <th>34721</th>\n",
       "      <td>PLUMBING &amp; HEATING ASSESSOR</td>\n",
       "      <td>UK</td>\n",
       "      <td>ALPHA RECRUITMENT</td>\n",
       "      <td>NON-SPECIFIED</td>\n",
       "      <td>PERMANENT</td>\n",
       "      <td>Teaching Jobs</td>\n",
       "      <td>3PM, 22nd March 2012</td>\n",
       "      <td>3PM, 21st May 2012</td>\n",
       "      <td>39936.0</td>\n",
       "    </tr>\n",
       "    <tr>\n",
       "      <th>24611</th>\n",
       "      <td>PLUMBING &amp; HEATING ASSESSOR</td>\n",
       "      <td>UK</td>\n",
       "      <td>INTERACTION ROMFORD</td>\n",
       "      <td>NON-SPECIFIED</td>\n",
       "      <td>CONTRACT</td>\n",
       "      <td>Teaching Jobs</td>\n",
       "      <td>3PM, 1st October 2013</td>\n",
       "      <td>3PM, 15th October 2013</td>\n",
       "      <td>39936.0</td>\n",
       "    </tr>\n",
       "    <tr>\n",
       "      <th>26000</th>\n",
       "      <td>QUALITY ENGINEER TEST &amp; WARRANTY</td>\n",
       "      <td>MILTON KEYNES</td>\n",
       "      <td>PREMIERE PEOPLE DAVENTRY</td>\n",
       "      <td>NON-SPECIFIED</td>\n",
       "      <td>PERMANENT</td>\n",
       "      <td>Engineering Jobs</td>\n",
       "      <td>3PM, 14th December 2013</td>\n",
       "      <td>3PM, 14th March 2014</td>\n",
       "      <td>27500.0</td>\n",
       "    </tr>\n",
       "    <tr>\n",
       "      <th>25548</th>\n",
       "      <td>QUALITY ENGINEER TEST &amp; WARRANTY</td>\n",
       "      <td>MILTON KEYNES</td>\n",
       "      <td>NaN</td>\n",
       "      <td>FULLTIME</td>\n",
       "      <td>NON-SPECIFIED</td>\n",
       "      <td>Engineering Jobs</td>\n",
       "      <td>3PM, 21st March 2013</td>\n",
       "      <td>3PM, 20th April 2013</td>\n",
       "      <td>27500.0</td>\n",
       "    </tr>\n",
       "    <tr>\n",
       "      <th>36226</th>\n",
       "      <td>VISUAL BASIC DATABASE DEVELOPER VBNET &amp; SQL SE...</td>\n",
       "      <td>LONDON</td>\n",
       "      <td>AWC</td>\n",
       "      <td>NON-SPECIFIED</td>\n",
       "      <td>NON-SPECIFIED</td>\n",
       "      <td>IT Jobs</td>\n",
       "      <td>12PM, 22nd April 2013</td>\n",
       "      <td>12PM, 22nd May 2013</td>\n",
       "      <td>45000.0</td>\n",
       "    </tr>\n",
       "    <tr>\n",
       "      <th>19404</th>\n",
       "      <td>VISUAL BASIC DATABASE DEVELOPER VBNET &amp; SQL SE...</td>\n",
       "      <td>LONDON</td>\n",
       "      <td>THE ANTIQUE WINE COMPANY</td>\n",
       "      <td>NON-SPECIFIED</td>\n",
       "      <td>PERMANENT</td>\n",
       "      <td>IT Jobs</td>\n",
       "      <td>3PM, 26th January 2012</td>\n",
       "      <td>3PM, 26th March 2012</td>\n",
       "      <td>45000.0</td>\n",
       "    </tr>\n",
       "  </tbody>\n",
       "</table>\n",
       "</div>"
      ],
      "text/plain": [
       "                                                   Title           Location  \\\n",
       "19031    FINANCE PLANNING & SALES COORDINATION ASSISTANT             SLOUGH   \n",
       "9212     FINANCE PLANNING & SALES COORDINATION ASSISTANT             SLOUGH   \n",
       "34762  GENERAL MANAGER BRANDED PUB & RESTAURANT LIVE ...  SOUTH EAST LONDON   \n",
       "31111  GENERAL MANAGER BRANDED PUB & RESTAURANT LIVE ...  SOUTH EAST LONDON   \n",
       "36663              MARKETING PR & COMMUNICATIONS MANAGER          BLACKPOOL   \n",
       "19132              MARKETING PR & COMMUNICATIONS MANAGER          BLACKPOOL   \n",
       "34721                        PLUMBING & HEATING ASSESSOR                 UK   \n",
       "24611                        PLUMBING & HEATING ASSESSOR                 UK   \n",
       "26000                   QUALITY ENGINEER TEST & WARRANTY      MILTON KEYNES   \n",
       "25548                   QUALITY ENGINEER TEST & WARRANTY      MILTON KEYNES   \n",
       "36226  VISUAL BASIC DATABASE DEVELOPER VBNET & SQL SE...             LONDON   \n",
       "19404  VISUAL BASIC DATABASE DEVELOPER VBNET & SQL SE...             LONDON   \n",
       "\n",
       "                        Company   ContractType   ContractTime  \\\n",
       "19031             UKSTAFFSEARCH       FULLTIME      PERMANENT   \n",
       "9212                        NaN  NON-SPECIFIED      PERMANENT   \n",
       "34762       DETAIL 2 RETAIL LTD  NON-SPECIFIED      PERMANENT   \n",
       "31111            DETAIL2LEISURE  NON-SPECIFIED      PERMANENT   \n",
       "36663          SPRING PERSONNEL  NON-SPECIFIED      PERMANENT   \n",
       "19132                       NaN       FULLTIME  NON-SPECIFIED   \n",
       "34721         ALPHA RECRUITMENT  NON-SPECIFIED      PERMANENT   \n",
       "24611       INTERACTION ROMFORD  NON-SPECIFIED       CONTRACT   \n",
       "26000  PREMIERE PEOPLE DAVENTRY  NON-SPECIFIED      PERMANENT   \n",
       "25548                       NaN       FULLTIME  NON-SPECIFIED   \n",
       "36226                       AWC  NON-SPECIFIED  NON-SPECIFIED   \n",
       "19404  THE ANTIQUE WINE COMPANY  NON-SPECIFIED      PERMANENT   \n",
       "\n",
       "                               Category                  OpenDate  \\\n",
       "19031                        Sales Jobs    12PM, 9th January 2013   \n",
       "9212                            IT Jobs      12AM, 20th June 2012   \n",
       "34762       Hospitality & Catering Jobs    12AM, 27th August 2012   \n",
       "31111       Hospitality & Catering Jobs   12AM, 30th October 2012   \n",
       "36663  PR, Advertising & Marketing Jobs   12PM, 2nd February 2013   \n",
       "19132  PR, Advertising & Marketing Jobs  3PM, 28th September 2013   \n",
       "34721                     Teaching Jobs      3PM, 22nd March 2012   \n",
       "24611                     Teaching Jobs     3PM, 1st October 2013   \n",
       "26000                  Engineering Jobs   3PM, 14th December 2013   \n",
       "25548                  Engineering Jobs      3PM, 21st March 2013   \n",
       "36226                           IT Jobs     12PM, 22nd April 2013   \n",
       "19404                           IT Jobs    3PM, 26th January 2012   \n",
       "\n",
       "                       CloseDate   Salary  \n",
       "19031      12PM, 10th March 2013  24000.0  \n",
       "9212   12AM, 18th September 2012  23000.0  \n",
       "34762  12AM, 26th September 2012  24500.0  \n",
       "31111   12AM, 29th December 2012  24500.0  \n",
       "36663       12PM, 4th March 2013  22500.0  \n",
       "19132     3PM, 28th October 2013  22500.0  \n",
       "34721         3PM, 21st May 2012  39936.0  \n",
       "24611     3PM, 15th October 2013  39936.0  \n",
       "26000       3PM, 14th March 2014  27500.0  \n",
       "25548       3PM, 20th April 2013  27500.0  \n",
       "36226        12PM, 22nd May 2013  45000.0  \n",
       "19404       3PM, 26th March 2012  45000.0  "
      ]
     },
     "execution_count": 31,
     "metadata": {},
     "output_type": "execute_result"
    }
   ],
   "source": [
    "# check duplication - Similar to previous line, checking the title and Location date pair\n",
    "cols = ['Title', 'Location'] \n",
    "duplicates = df[df.duplicated(cols,keep=False)]\n",
    "print( \"There are \"+ str(len(duplicates)) + \" duplicate records found\")\n",
    "duplicates.sort_values(by=duplicates.columns.tolist()).head(12)"
   ]
  },
  {
   "cell_type": "markdown",
   "metadata": {},
   "source": [
    "- This time 12 duplicates are identified by Python but none of them are really duplicate.\n",
    "    Therefore, we consider this the most normalised data set and save it as final outcome."
   ]
  },
  {
   "cell_type": "markdown",
   "metadata": {},
   "source": [
    "## The Global Key"
   ]
  },
  {
   "cell_type": "code",
   "execution_count": 32,
   "metadata": {},
   "outputs": [
    {
     "data": {
      "text/html": [
       "<div>\n",
       "<style scoped>\n",
       "    .dataframe tbody tr th:only-of-type {\n",
       "        vertical-align: middle;\n",
       "    }\n",
       "\n",
       "    .dataframe tbody tr th {\n",
       "        vertical-align: top;\n",
       "    }\n",
       "\n",
       "    .dataframe thead th {\n",
       "        text-align: right;\n",
       "    }\n",
       "</style>\n",
       "<table border=\"1\" class=\"dataframe\">\n",
       "  <thead>\n",
       "    <tr style=\"text-align: right;\">\n",
       "      <th></th>\n",
       "      <th>Title</th>\n",
       "      <th>Location</th>\n",
       "      <th>Company</th>\n",
       "      <th>ContractType</th>\n",
       "      <th>ContractTime</th>\n",
       "      <th>Category</th>\n",
       "      <th>OpenDate</th>\n",
       "      <th>CloseDate</th>\n",
       "    </tr>\n",
       "  </thead>\n",
       "  <tbody>\n",
       "    <tr>\n",
       "      <th>count</th>\n",
       "      <td>40490</td>\n",
       "      <td>40491</td>\n",
       "      <td>39505</td>\n",
       "      <td>40160</td>\n",
       "      <td>40484</td>\n",
       "      <td>40491</td>\n",
       "      <td>40491</td>\n",
       "      <td>40491</td>\n",
       "    </tr>\n",
       "    <tr>\n",
       "      <th>unique</th>\n",
       "      <td>40473</td>\n",
       "      <td>517</td>\n",
       "      <td>6728</td>\n",
       "      <td>4</td>\n",
       "      <td>5</td>\n",
       "      <td>11</td>\n",
       "      <td>2194</td>\n",
       "      <td>2409</td>\n",
       "    </tr>\n",
       "    <tr>\n",
       "      <th>top</th>\n",
       "      <td>VISUAL BASIC DATABASE DEVELOPER VBNET &amp; SQL SE...</td>\n",
       "      <td>UK</td>\n",
       "      <td>NONSPECIFIED</td>\n",
       "      <td>NON-SPECIFIED</td>\n",
       "      <td>PERMANENT</td>\n",
       "      <td>IT Jobs</td>\n",
       "      <td>3PM, 15th April 2012</td>\n",
       "      <td>12AM, 8th December 2013</td>\n",
       "    </tr>\n",
       "    <tr>\n",
       "      <th>freq</th>\n",
       "      <td>2</td>\n",
       "      <td>6139</td>\n",
       "      <td>2717</td>\n",
       "      <td>30486</td>\n",
       "      <td>26400</td>\n",
       "      <td>11145</td>\n",
       "      <td>38</td>\n",
       "      <td>35</td>\n",
       "    </tr>\n",
       "  </tbody>\n",
       "</table>\n",
       "</div>"
      ],
      "text/plain": [
       "                                                    Title Location  \\\n",
       "count                                               40490    40491   \n",
       "unique                                              40473      517   \n",
       "top     VISUAL BASIC DATABASE DEVELOPER VBNET & SQL SE...       UK   \n",
       "freq                                                    2     6139   \n",
       "\n",
       "             Company   ContractType ContractTime Category  \\\n",
       "count          39505          40160        40484    40491   \n",
       "unique          6728              4            5       11   \n",
       "top     NONSPECIFIED  NON-SPECIFIED    PERMANENT  IT Jobs   \n",
       "freq            2717          30486        26400    11145   \n",
       "\n",
       "                    OpenDate                CloseDate  \n",
       "count                  40491                    40491  \n",
       "unique                  2194                     2409  \n",
       "top     3PM, 15th April 2012  12AM, 8th December 2013  \n",
       "freq                      38                       35  "
      ]
     },
     "execution_count": 32,
     "metadata": {},
     "output_type": "execute_result"
    }
   ],
   "source": [
    "df.describe(include=['O'])"
   ]
  },
  {
   "cell_type": "markdown",
   "metadata": {},
   "source": [
    "- Based on ordered pair matching in 'resolve data conflicts' section, it has become vivid that 'Title' will be the best candidate to be considered as globar primary key. Although 'ID' could act as a primary key due to its uniqueness, I have to select 'title' since 'ID' is not available and there's no better attribute to play that role. Moreover, in the table above, we see that the only column which has the closest number of unique and count is also the 'Title' column. Hence, my suggestion will be 'Title' as the global key."
   ]
  },
  {
   "cell_type": "markdown",
   "metadata": {},
   "source": [
    "## Saving data\n",
    "Save the integrated data"
   ]
  },
  {
   "cell_type": "code",
   "execution_count": 33,
   "metadata": {},
   "outputs": [],
   "source": [
    "df.to_csv(\"dataset_integrated.csv\",index = False)"
   ]
  },
  {
   "cell_type": "markdown",
   "metadata": {},
   "source": [
    "## Summary\n",
    "in Task 2 of assessment 2, the focus was mainly on data and schema conflict management as well as efficient integration. Data wrangling in terms of cleansing and formatting was not required.\n",
    "I started with importing the two data frames and set them as the two schema. Step by step, I compared their attributes and resolved their schema conflicts. To make them compatible, I removed two columns from schema 1 and merged them together using concat function. At the end, I resolved any data conflict by pair matching columns, and found and removed duplicate rows. The output can be found in the same directory of this code in the csv format named 'dataset_integrated'."
   ]
  },
  {
   "cell_type": "code",
   "execution_count": null,
   "metadata": {},
   "outputs": [],
   "source": []
  }
 ],
 "metadata": {
  "kernelspec": {
   "display_name": "Python 3",
   "language": "python",
   "name": "python3"
  },
  "language_info": {
   "codemirror_mode": {
    "name": "ipython",
    "version": 3
   },
   "file_extension": ".py",
   "mimetype": "text/x-python",
   "name": "python",
   "nbconvert_exporter": "python",
   "pygments_lexer": "ipython3",
   "version": "3.8.5"
  }
 },
 "nbformat": 4,
 "nbformat_minor": 1
}
