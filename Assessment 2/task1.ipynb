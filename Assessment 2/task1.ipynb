{
 "cells": [
  {
   "cell_type": "markdown",
   "metadata": {
    "id": "bxS83L6Ioa38"
   },
   "source": [
    "# FIT5196 Assessment 2 Task1\n",
    "#### Student Name:  Maryam Mahmoodi\n",
    "#### Student ID:        \n",
    "\n",
    "\n",
    "Version: 1.0\n",
    "\n",
    "Environment: Python 3.8.5 and Jupyter notebook\n",
    "\n",
    "Libraries used: please include the main libraries you used in your assignment here, e.g.,:\n",
    "* pandas \n",
    "* re \n",
    "* numpy\n",
    "* mpl\n",
    "* pylab\n",
    "* math\n",
    "* statsmodels.api\n",
    "* sklearn.linear_model\n",
    "* datetime\n",
    "\n",
    "\n"
   ]
  },
  {
   "cell_type": "code",
   "execution_count": 1,
   "metadata": {
    "scrolled": true
   },
   "outputs": [
    {
     "name": "stdout",
     "output_type": "stream",
     "text": [
      "3.8.5\n"
     ]
    }
   ],
   "source": [
    "from platform import python_version\n",
    "\n",
    "print(python_version())"
   ]
  },
  {
   "cell_type": "markdown",
   "metadata": {},
   "source": [
    "## Import libraries "
   ]
  },
  {
   "cell_type": "code",
   "execution_count": 2,
   "metadata": {},
   "outputs": [
    {
     "data": {
      "text/html": [
       "<style>body {\n",
       "    margin: 0;\n",
       "    font-family: Helvetica;\n",
       "}\n",
       "table.dataframe {\n",
       "    border-collapse: collapse;\n",
       "    border: none;\n",
       "}\n",
       "table.dataframe tr {\n",
       "    border: none;\n",
       "}\n",
       "table.dataframe td, table.dataframe th {\n",
       "    margin: 0;\n",
       "    border: 1px solid white;\n",
       "    padding-left: 0.25em;\n",
       "    padding-right: 0.25em;\n",
       "}\n",
       "table.dataframe th:not(:empty) {\n",
       "    background-color: #fec;\n",
       "    text-align: left;\n",
       "    font-weight: normal;\n",
       "}\n",
       "table.dataframe tr:nth-child(2) th:empty {\n",
       "    border-left: none;\n",
       "    border-right: 1px dashed #888;\n",
       "}\n",
       "table.dataframe td {\n",
       "    border: 2px solid #ccf;\n",
       "    background-color: #f4f4ff;\n",
       "}\n",
       "h3 {\n",
       "    color: white;\n",
       "    background-color: black;\n",
       "    padding: 0.5em;\n",
       "}\n",
       "</style>"
      ],
      "text/plain": [
       "<IPython.core.display.HTML object>"
      ]
     },
     "execution_count": 2,
     "metadata": {},
     "output_type": "execute_result"
    }
   ],
   "source": [
    "# Code to import libraries as you need in this assessment, e.g.,\n",
    "import pandas as pd\n",
    "\n",
    "# REGEX library to match strings\n",
    "import re\n",
    "\n",
    "# Mainly mathematical libraries to deal with stanstiscal modeling as well as maths\n",
    "import numpy as np\n",
    "import math\n",
    "import statsmodels.api as sm\n",
    "from sklearn.linear_model import LinearRegression\n",
    "\n",
    "# datetime lib to deal with open and close date data\n",
    "from datetime import datetime\n",
    "\n",
    "# Sequence matcher is used to cleanse categorical data and tries to find duplicate rows which are very similar\n",
    "# but distinguished mainly due to human error (e.g. typo)\n",
    "from difflib import SequenceMatcher\n",
    "\n",
    "\n",
    "# Better design plottings\n",
    "import matplotlib.pyplot as plt\n",
    "import matplotlib as mpl\n",
    "import matplotlib.pylab as pylab\n",
    "%matplotlib inline\n",
    "%matplotlib inline\n",
    "mpl.style.use( 'ggplot' )\n",
    "#Notebook displace setting\n",
    "from IPython.core.display import HTML\n",
    "css = open('style/style-table.css').read() + open('style/style-notebook.css').read()\n",
    "HTML('<style>{}</style>'.format(css))"
   ]
  },
  {
   "cell_type": "code",
   "execution_count": 3,
   "metadata": {},
   "outputs": [
    {
     "name": "stdout",
     "output_type": "stream",
     "text": [
      "<class 'pandas.core.frame.DataFrame'>\n",
      "RangeIndex: 55169 entries, 0 to 55168\n",
      "Data columns (total 11 columns):\n",
      " #   Column        Non-Null Count  Dtype \n",
      "---  ------        --------------  ----- \n",
      " 0   Id            55169 non-null  int64 \n",
      " 1   Title         55169 non-null  object\n",
      " 2   Location      55169 non-null  object\n",
      " 3   Company       51320 non-null  object\n",
      " 4   ContractType  33493 non-null  object\n",
      " 5   ContractTime  47047 non-null  object\n",
      " 6   Category      55169 non-null  object\n",
      " 7   Salary        53584 non-null  object\n",
      " 8   OpenDate      55169 non-null  object\n",
      " 9   CloseDate     55169 non-null  object\n",
      " 10  Source        55169 non-null  object\n",
      "dtypes: int64(1), object(10)\n",
      "memory usage: 4.6+ MB\n"
     ]
    }
   ],
   "source": [
    "# Import dataframe\n",
    "df = pd.read_csv(\"dataset1_with_error.csv\")\n",
    "\n",
    "# Set ID in the index\n",
    "#df.set_index(df.Id, inplace = True)\n",
    "\n",
    "df.info()"
   ]
  },
  {
   "cell_type": "code",
   "execution_count": 4,
   "metadata": {},
   "outputs": [],
   "source": [
    "df = df.fillna('non-specified')"
   ]
  },
  {
   "cell_type": "code",
   "execution_count": 5,
   "metadata": {},
   "outputs": [
    {
     "data": {
      "text/html": [
       "<div>\n",
       "<style scoped>\n",
       "    .dataframe tbody tr th:only-of-type {\n",
       "        vertical-align: middle;\n",
       "    }\n",
       "\n",
       "    .dataframe tbody tr th {\n",
       "        vertical-align: top;\n",
       "    }\n",
       "\n",
       "    .dataframe thead th {\n",
       "        text-align: right;\n",
       "    }\n",
       "</style>\n",
       "<table border=\"1\" class=\"dataframe\">\n",
       "  <thead>\n",
       "    <tr style=\"text-align: right;\">\n",
       "      <th></th>\n",
       "      <th>Title</th>\n",
       "      <th>Location</th>\n",
       "      <th>Company</th>\n",
       "      <th>ContractType</th>\n",
       "      <th>ContractTime</th>\n",
       "      <th>Category</th>\n",
       "      <th>Salary</th>\n",
       "      <th>OpenDate</th>\n",
       "      <th>CloseDate</th>\n",
       "      <th>Source</th>\n",
       "    </tr>\n",
       "  </thead>\n",
       "  <tbody>\n",
       "    <tr>\n",
       "      <th>count</th>\n",
       "      <td>55169</td>\n",
       "      <td>55169</td>\n",
       "      <td>55169</td>\n",
       "      <td>55169</td>\n",
       "      <td>55169</td>\n",
       "      <td>55169</td>\n",
       "      <td>55169</td>\n",
       "      <td>55169</td>\n",
       "      <td>55169</td>\n",
       "      <td>55169</td>\n",
       "    </tr>\n",
       "    <tr>\n",
       "      <th>unique</th>\n",
       "      <td>55166</td>\n",
       "      <td>489</td>\n",
       "      <td>9065</td>\n",
       "      <td>5</td>\n",
       "      <td>5</td>\n",
       "      <td>8</td>\n",
       "      <td>3758</td>\n",
       "      <td>2194</td>\n",
       "      <td>2418</td>\n",
       "      <td>106</td>\n",
       "    </tr>\n",
       "    <tr>\n",
       "      <th>top</th>\n",
       "      <td>Senior Financial Advisor</td>\n",
       "      <td>UK</td>\n",
       "      <td>non-specified</td>\n",
       "      <td>non-specified</td>\n",
       "      <td>permanent</td>\n",
       "      <td>IT Jobs</td>\n",
       "      <td>35000</td>\n",
       "      <td>20120415T150000</td>\n",
       "      <td>20131208T000000</td>\n",
       "      <td>totaljobs.com</td>\n",
       "    </tr>\n",
       "    <tr>\n",
       "      <th>freq</th>\n",
       "      <td>2</td>\n",
       "      <td>8397</td>\n",
       "      <td>3849</td>\n",
       "      <td>21676</td>\n",
       "      <td>33637</td>\n",
       "      <td>14344</td>\n",
       "      <td>1865</td>\n",
       "      <td>45</td>\n",
       "      <td>45</td>\n",
       "      <td>10102</td>\n",
       "    </tr>\n",
       "  </tbody>\n",
       "</table>\n",
       "</div>"
      ],
      "text/plain": [
       "                           Title Location        Company   ContractType  \\\n",
       "count                      55169    55169          55169          55169   \n",
       "unique                     55166      489           9065              5   \n",
       "top     Senior Financial Advisor       UK  non-specified  non-specified   \n",
       "freq                           2     8397           3849          21676   \n",
       "\n",
       "       ContractTime Category Salary         OpenDate        CloseDate  \\\n",
       "count         55169    55169  55169            55169            55169   \n",
       "unique            5        8   3758             2194             2418   \n",
       "top       permanent  IT Jobs  35000  20120415T150000  20131208T000000   \n",
       "freq          33637    14344   1865               45               45   \n",
       "\n",
       "               Source  \n",
       "count           55169  \n",
       "unique            106  \n",
       "top     totaljobs.com  \n",
       "freq            10102  "
      ]
     },
     "execution_count": 5,
     "metadata": {},
     "output_type": "execute_result"
    }
   ],
   "source": [
    "df.describe(include =['O'])"
   ]
  },
  {
   "cell_type": "markdown",
   "metadata": {},
   "source": [
    "### Observations\n",
    "\n",
    "    * The company and contract type columns have so many non specified data.\n",
    "    * Contract type and contract time, each has 5 unique values which does not sound right.\n",
    "    * The majority of job titles are unique.\n",
    "    * Open and close dates are in an string format."
   ]
  },
  {
   "cell_type": "markdown",
   "metadata": {
    "id": "RlUmRkucoa4B"
   },
   "source": [
    "## Task 1. Auditing and cleansing the loaded data"
   ]
  },
  {
   "cell_type": "markdown",
   "metadata": {},
   "source": [
    "### Contract Time"
   ]
  },
  {
   "cell_type": "code",
   "execution_count": 6,
   "metadata": {
    "id": "f9MuD0yjoa4C",
    "scrolled": false
   },
   "outputs": [
    {
     "data": {
      "text/plain": [
       "array(['permanent', '-', 'contract', 'non-specified', ' '], dtype=object)"
      ]
     },
     "execution_count": 6,
     "metadata": {},
     "output_type": "execute_result"
    }
   ],
   "source": [
    "# Audit uniqueness\n",
    "df['ContractTime'].unique()"
   ]
  },
  {
   "cell_type": "code",
   "execution_count": 7,
   "metadata": {},
   "outputs": [],
   "source": [
    "# Converting not-given values to 'non-specified' for the integrity of data\n",
    "df['ContractTime'] = df['ContractTime'].replace({'-': 'non-specified',' ':'non-specified'},inplace =False)"
   ]
  },
  {
   "cell_type": "code",
   "execution_count": 8,
   "metadata": {},
   "outputs": [
    {
     "data": {
      "text/plain": [
       "array(['permanent', 'non-specified', 'contract'], dtype=object)"
      ]
     },
     "execution_count": 8,
     "metadata": {},
     "output_type": "execute_result"
    }
   ],
   "source": [
    "# The column is cleaned in terms of dat uniqueness\n",
    "df['ContractTime'].unique()"
   ]
  },
  {
   "cell_type": "markdown",
   "metadata": {},
   "source": [
    "### Contract Type\n",
    "\n",
    "  - Audit data similar to previous column"
   ]
  },
  {
   "cell_type": "code",
   "execution_count": 9,
   "metadata": {},
   "outputs": [
    {
     "data": {
      "text/plain": [
       "array(['non-specified', '-', ' ', 'full_time', 'part_time'], dtype=object)"
      ]
     },
     "execution_count": 9,
     "metadata": {},
     "output_type": "execute_result"
    }
   ],
   "source": [
    "df['ContractType'].unique()"
   ]
  },
  {
   "cell_type": "code",
   "execution_count": 10,
   "metadata": {},
   "outputs": [],
   "source": [
    "# Converting not-given values to 'non-specified' for the integrity of data\n",
    "df['ContractType'] = df['ContractType'].replace({'-': 'non-specified',' ':'non-specified'},inplace =False)"
   ]
  },
  {
   "cell_type": "code",
   "execution_count": 11,
   "metadata": {},
   "outputs": [
    {
     "data": {
      "text/plain": [
       "array(['non-specified', 'full_time', 'part_time'], dtype=object)"
      ]
     },
     "execution_count": 11,
     "metadata": {},
     "output_type": "execute_result"
    }
   ],
   "source": [
    "# The column is cleaned in terms of dat uniqueness\n",
    "df['ContractType'].unique()"
   ]
  },
  {
   "cell_type": "markdown",
   "metadata": {},
   "source": [
    "## Dealing with Salary data\n",
    "\n",
    "    - Now that we have cleared Contract Type and Contract Time columns, I can deal with Salary column and hopefully, I will cleanse salary and impute potential missing salaries with the 'mean' of similar contract type and times. \n",
    "### What are the issues?\n",
    "\n",
    "   - There are a variety of inconsistencies in data.\n",
    "   - The data format is String which needs to be converted to Float.\n",
    "   - There are <font color=\"blue\"> 1585 </font> number of missing data.\n",
    "   - A large number of data are not provided and '-' is inserted.\n",
    "   - In several rows, the entry has produced by the joint of two salary data. They need to be split.hey need to be split.\n",
    "\n",
    "### Solution:\n",
    "    1. Remove extra words, strings, and space from numbers by running the normalization function.\n",
    "```python\n",
    "        x = re.sub(r'([\\W\\s]|_)', '', x)\n",
    "        x = re.sub(r'([a-zA-Z]+)', '', x)\n",
    "        x = re.sub( '\\s+', '', x).strip()\n",
    "```\n",
    "    2. Split potential attachments between two entries.\n",
    "        a. Split 10-digits salaries to 2 set of 5-digits. Remove the second half and keep them in a list\n",
    "        b. Add the second 5-digits to their coresponding Id's\n",
    "\n",
    "``` python\n",
    "        x = x[0:6] is added to the function cleanNumeric\n",
    "```\n",
    "    3. Remove null and not-given records to be able to run numerical analysis.\n",
    "    4. Convert strings into Float\n",
    "    \n",
    "##### After this stage, I'm going to calculate the average salary of the whole dataset\n",
    "    1- Create a temporary dataframe\n",
    "    2- Change the data type to float\n",
    "    3- remove outliers\n",
    "    4- find Average salary per each contract type and time"
   ]
  },
  {
   "cell_type": "code",
   "execution_count": 12,
   "metadata": {},
   "outputs": [],
   "source": [
    "# Function to cleanse numeric dataframes\n",
    "def cleanNumeric(x):\n",
    "    if pd.isnull(x):\n",
    "        return x\n",
    "    if x == 'non-specified':\n",
    "        return x\n",
    "    else:\n",
    "        x = re.sub(r'([\\W\\s]|_|-)', '', x).strip()\n",
    "        x = re.sub(r'([a-zA-Z]+)', '', x).strip()\n",
    "        x = re.sub( '\\s+', '', x).strip()\n",
    "        x = x[0:6]  #this step is added after running the code for the first time. Because\n",
    "                    # There is a bunch of salaries above 1 million.\n",
    "                    # Looking into them, it's clear that each entry is a concat of 2 entries which need to be split\n",
    "        return x\n",
    "    if x == '':\n",
    "        x = 'non-specified'\n",
    "        return x\n",
    "    else:\n",
    "        return x"
   ]
  },
  {
   "cell_type": "code",
   "execution_count": 13,
   "metadata": {},
   "outputs": [],
   "source": [
    "# Function to normalise temporary numeric datafarams\n",
    "\n",
    "def numeric_var(input):\n",
    "    c = df[input]\n",
    "    print(f\"The stats for the column >>{input} and {input}Normalized << includes:\")\n",
    "    print (len(set(c)), f\"different groups in the current {input} data set\")\n",
    "    df[f'{input}Normalized'] = c.apply(lambda y: cleanNumeric(y))\n",
    "    print (len(set(df[f'{input}Normalized'])), f\"different groups after normalization in {input}Normalized dataset\")"
   ]
  },
  {
   "cell_type": "code",
   "execution_count": 14,
   "metadata": {},
   "outputs": [
    {
     "name": "stdout",
     "output_type": "stream",
     "text": [
      "The stats for the column >>Salary and SalaryNormalized << includes:\n",
      "3758 different groups in the current Salary data set\n",
      "3569 different groups after normalization in SalaryNormalized dataset\n"
     ]
    }
   ],
   "source": [
    "# Cleanse salary in Temp salary dataframe\n",
    "numeric_var('Salary')"
   ]
  },
  {
   "cell_type": "code",
   "execution_count": 15,
   "metadata": {},
   "outputs": [
    {
     "name": "stdout",
     "output_type": "stream",
     "text": [
      "There are 373 empty, 1585 non-specified and 0 null data in Salary\n"
     ]
    }
   ],
   "source": [
    "emptySalDeal = df[(df['SalaryNormalized'] == '')]\n",
    "nullSalDeal = df[(df['SalaryNormalized'].isnull())]\n",
    "nonspecSalDeal = df[(df['SalaryNormalized'] == 'non-specified')]\n",
    "\n",
    "print(f\"There are {emptySalDeal.Id.count()} empty, {nonspecSalDeal.Id.count()} non-specified and {nullSalDeal.Id.count()} null data in Salary\")"
   ]
  },
  {
   "cell_type": "code",
   "execution_count": 16,
   "metadata": {},
   "outputs": [
    {
     "name": "stdout",
     "output_type": "stream",
     "text": [
      "There are 53211 number of Normilised Salry in Salary column which can be used for mean and median calculations\n"
     ]
    }
   ],
   "source": [
    "tempSal = df[(df['SalaryNormalized'] != 'non-specified') & (df['SalaryNormalized'] != '')]\n",
    "print(f\"There are {len(tempSal)} number of Normilised Salry in Salary column which can be used for mean and median calculations\")"
   ]
  },
  {
   "cell_type": "markdown",
   "metadata": {},
   "source": [
    "### Calculate the average salary of dataset"
   ]
  },
  {
   "cell_type": "code",
   "execution_count": 17,
   "metadata": {},
   "outputs": [],
   "source": [
    "s = tempSal.SalaryNormalized.astype(float)"
   ]
  },
  {
   "cell_type": "code",
   "execution_count": 18,
   "metadata": {
    "scrolled": false
   },
   "outputs": [
    {
     "name": "stderr",
     "output_type": "stream",
     "text": [
      "<ipython-input-18-bee7c3730804>:1: SettingWithCopyWarning: \n",
      "A value is trying to be set on a copy of a slice from a DataFrame.\n",
      "Try using .loc[row_indexer,col_indexer] = value instead\n",
      "\n",
      "See the caveats in the documentation: https://pandas.pydata.org/pandas-docs/stable/user_guide/indexing.html#returning-a-view-versus-a-copy\n",
      "  tempSal['normedSalary'] = s\n"
     ]
    }
   ],
   "source": [
    "tempSal['normedSalary'] = s"
   ]
  },
  {
   "cell_type": "code",
   "execution_count": 19,
   "metadata": {},
   "outputs": [
    {
     "data": {
      "image/png": "[encoded data removed]",
      "text/plain": [
       "<Figure size 432x288 with 1 Axes>"
      ]
     },
     "metadata": {},
     "output_type": "display_data"
    }
   ],
   "source": [
    "bp = tempSal.boxplot(column = 'normedSalary')"
   ]
  },
  {
   "cell_type": "markdown",
   "metadata": {},
   "source": [
    "#### Let the box plot tell:\n",
    "##### Out of 53211 number of normilised salary entries in the dataset, there are a huge number of outliers in the Salary data. Looking at the data, it is obvious that the outliers are caused by the following reasons:\n",
    "   \n",
    "    * Various rows in Salary are much higher than upper control limit line.\n",
    "    * Various rows in Salary are much lower than lower control limit line."
   ]
  },
  {
   "cell_type": "code",
   "execution_count": 20,
   "metadata": {},
   "outputs": [
    {
     "data": {
      "text/plain": [
       "773"
      ]
     },
     "execution_count": 20,
     "metadata": {},
     "output_type": "execute_result"
    }
   ],
   "source": [
    "# There are few outlier for which the value is not provided which I'll remove them for maan calculations\n",
    "salaryOutlier = tempSal[(tempSal.normedSalary < 1)]\n",
    "salaryOutlier.normedSalary.count()"
   ]
  },
  {
   "cell_type": "code",
   "execution_count": 21,
   "metadata": {},
   "outputs": [
    {
     "name": "stdout",
     "output_type": "stream",
     "text": [
      "<class 'pandas.core.frame.DataFrame'>\n",
      "Int64Index: 53211 entries, 0 to 55168\n",
      "Data columns (total 13 columns):\n",
      " #   Column            Non-Null Count  Dtype  \n",
      "---  ------            --------------  -----  \n",
      " 0   Id                53211 non-null  int64  \n",
      " 1   Title             53211 non-null  object \n",
      " 2   Location          53211 non-null  object \n",
      " 3   Company           53211 non-null  object \n",
      " 4   ContractType      53211 non-null  object \n",
      " 5   ContractTime      53211 non-null  object \n",
      " 6   Category          53211 non-null  object \n",
      " 7   Salary            53211 non-null  object \n",
      " 8   OpenDate          53211 non-null  object \n",
      " 9   CloseDate         53211 non-null  object \n",
      " 10  Source            53211 non-null  object \n",
      " 11  SalaryNormalized  53211 non-null  object \n",
      " 12  normedSalary      53211 non-null  float64\n",
      "dtypes: float64(1), int64(1), object(11)\n",
      "memory usage: 5.7+ MB\n"
     ]
    }
   ],
   "source": [
    "tempSal.info()"
   ]
  },
  {
   "cell_type": "code",
   "execution_count": 22,
   "metadata": {},
   "outputs": [
    {
     "name": "stdout",
     "output_type": "stream",
     "text": [
      "7637\n"
     ]
    },
    {
     "data": {
      "text/plain": [
       "[16000.0,\n",
       " 18000.0,\n",
       " 17280.0,\n",
       " 16000.0,\n",
       " 18000.0,\n",
       " 19000.0,\n",
       " 15500.0,\n",
       " 17000.0,\n",
       " 12646.0,\n",
       " 15000.0,\n",
       " 17500.0,\n",
       " 16000.0,\n",
       " 15000.0,\n",
       " 18000.0,\n",
       " 15500.0,\n",
       " 14000.0,\n",
       " 14500.0,\n",
       " 18000.0,\n",
       " 17000.0,\n",
       " 16500.0,\n",
       " 14000.0,\n",
       " 15500.0,\n",
       " 17000.0,\n",
       " 16500.0,\n",
       " 16000.0,\n",
       " 14880.0,\n",
       " 13440.0,\n",
       " 13440.0,\n",
       " 18720.0,\n",
       " 13440.0,\n",
       " 15446.0,\n",
       " 15446.0,\n",
       " 11673.0,\n",
       " 16320.0,\n",
       " 13392.0,\n",
       " 19200.0,\n",
       " 19056.0,\n",
       " 11884.0,\n",
       " 14500.0,\n",
       " 19735.0,\n",
       " 19266.0,\n",
       " 17280.0,\n",
       " 15360.0,\n",
       " 15168.0,\n",
       " 16500.0,\n",
       " 14586.0,\n",
       " 18500.0,\n",
       " 13864.0,\n",
       " 18320.0,\n",
       " 16200.0,\n",
       " 15360.0,\n",
       " 15360.0,\n",
       " 15000.0,\n",
       " 261312.0,\n",
       " 19500.0,\n",
       " 16000.0,\n",
       " 13500.0,\n",
       " 16000.0,\n",
       " 18000.0,\n",
       " 17000.0,\n",
       " 14500.0,\n",
       " 16500.0,\n",
       " 15000.0,\n",
       " 17000.0,\n",
       " 13500.0,\n",
       " 18000.0,\n",
       " 12500.0,\n",
       " 17500.0,\n",
       " 14000.0,\n",
       " 13000.0,\n",
       " 16500.0,\n",
       " 12500.0,\n",
       " 17000.0,\n",
       " 16500.0,\n",
       " 19512.0,\n",
       " 16000.0,\n",
       " 15600.0,\n",
       " 16000.0,\n",
       " 17234.0,\n",
       " 13512.0,\n",
       " 19200.0,\n",
       " 16500.0,\n",
       " 15500.0,\n",
       " 18600.0,\n",
       " 14750.0,\n",
       " 13516.0,\n",
       " 14476.0,\n",
       " 18720.0,\n",
       " 16000.0,\n",
       " 11520.0,\n",
       " 16000.0,\n",
       " 17650.0,\n",
       " 14676.0,\n",
       " 16000.0,\n",
       " 17000.0,\n",
       " 17760.0,\n",
       " 17000.0,\n",
       " 18000.0,\n",
       " 18500.0,\n",
       " 16000.0,\n",
       " 15350.0,\n",
       " 17750.0,\n",
       " 11500.0,\n",
       " 16000.0,\n",
       " 16500.0,\n",
       " 17000.0,\n",
       " 277502.0,\n",
       " 15500.0,\n",
       " 19500.0,\n",
       " 11593.0,\n",
       " 17500.0,\n",
       " 17000.0,\n",
       " 16000.0,\n",
       " 13500.0,\n",
       " 16500.0,\n",
       " 17000.0,\n",
       " 17000.0,\n",
       " 11904.0,\n",
       " 18720.0,\n",
       " 10678.0,\n",
       " 13552.0,\n",
       " 14500.0,\n",
       " 13350.0,\n",
       " 17000.0,\n",
       " 330003.0,\n",
       " 15000.0,\n",
       " 14000.0,\n",
       " 89000.0,\n",
       " 13000.0,\n",
       " 15360.0,\n",
       " 14640.0,\n",
       " 15500.0,\n",
       " 16320.0,\n",
       " 19000.0,\n",
       " 19000.0,\n",
       " 17000.0,\n",
       " 18500.0,\n",
       " 17000.0,\n",
       " 17280.0,\n",
       " 13000.0,\n",
       " 289693.0,\n",
       " 13795.0,\n",
       " 15750.0,\n",
       " 19200.0,\n",
       " 18240.0,\n",
       " 19776.0,\n",
       " 15000.0,\n",
       " 14000.0,\n",
       " 14400.0,\n",
       " 400000.0,\n",
       " 17500.0,\n",
       " 16500.0,\n",
       " 17000.0,\n",
       " 295003.0,\n",
       " 14000.0,\n",
       " 17000.0,\n",
       " 16500.0,\n",
       " 17500.0,\n",
       " 15700.0,\n",
       " 18850.0,\n",
       " 14000.0,\n",
       " 18000.0,\n",
       " 13694.0,\n",
       " 18000.0,\n",
       " 18000.0,\n",
       " 19000.0,\n",
       " 13900.0,\n",
       " 16000.0,\n",
       " 15000.0,\n",
       " 16500.0,\n",
       " 15000.0,\n",
       " 15000.0,\n",
       " 15000.0,\n",
       " 12480.0,\n",
       " 17907.0,\n",
       " 17500.0,\n",
       " 15600.0,\n",
       " 13000.0,\n",
       " 18000.0,\n",
       " 14438.0,\n",
       " 15500.0,\n",
       " 16000.0,\n",
       " 517320.0,\n",
       " 13804.0,\n",
       " 19350.0,\n",
       " 17000.0,\n",
       " 19000.0,\n",
       " 19000.0,\n",
       " 18000.0,\n",
       " 12480.0,\n",
       " 14000.0,\n",
       " 19000.0,\n",
       " 17000.0,\n",
       " 16000.0,\n",
       " 17478.0,\n",
       " 14999.0,\n",
       " 14400.0,\n",
       " 19622.0,\n",
       " 19622.0,\n",
       " 19200.0,\n",
       " 18600.0,\n",
       " 19000.0,\n",
       " 17500.0,\n",
       " 11884.0,\n",
       " 16000.0,\n",
       " 14750.0,\n",
       " 84000.0,\n",
       " 15000.0,\n",
       " 0.0,\n",
       " 0.0,\n",
       " 120000.0,\n",
       " 16500.0,\n",
       " 16954.0,\n",
       " 275003.0,\n",
       " 19500.0,\n",
       " 19564.0,\n",
       " 16000.0,\n",
       " 19200.0,\n",
       " 14000.0,\n",
       " 18000.0,\n",
       " 14880.0,\n",
       " 14500.0,\n",
       " 19142.0,\n",
       " 16750.0,\n",
       " 15500.0,\n",
       " 15000.0,\n",
       " 17000.0,\n",
       " 5184.0,\n",
       " 19200.0,\n",
       " 18000.0,\n",
       " 15000.0,\n",
       " 14400.0,\n",
       " 18240.0,\n",
       " 19000.0,\n",
       " 14400.0,\n",
       " 18000.0,\n",
       " 15840.0,\n",
       " 15360.0,\n",
       " 18240.0,\n",
       " 12480.0,\n",
       " 16500.0,\n",
       " 12288.0,\n",
       " 17000.0,\n",
       " 13200.0,\n",
       " 15360.0,\n",
       " 18000.0,\n",
       " 18000.0,\n",
       " 17856.0,\n",
       " 14400.0,\n",
       " 13200.0,\n",
       " 16750.0,\n",
       " 15360.0,\n",
       " 45.0,\n",
       " 19776.0,\n",
       " 18500.0,\n",
       " 15532.0,\n",
       " 17280.0,\n",
       " 17280.0,\n",
       " 17280.0,\n",
       " 14000.0,\n",
       " 16492.0,\n",
       " 17280.0,\n",
       " 18000.0,\n",
       " 14668.0,\n",
       " 6000.0,\n",
       " 15000.0,\n",
       " 15206.0,\n",
       " 16358.0,\n",
       " 17280.0,\n",
       " 16320.0,\n",
       " 17280.0,\n",
       " 12480.0,\n",
       " 17280.0,\n",
       " 16000.0,\n",
       " 19000.0,\n",
       " 16320.0,\n",
       " 13500.0,\n",
       " 14500.0,\n",
       " 15500.0,\n",
       " 16000.0,\n",
       " 18240.0,\n",
       " 11520.0,\n",
       " 12480.0,\n",
       " 17280.0,\n",
       " 5760.0,\n",
       " 18240.0,\n",
       " 11520.0,\n",
       " 13600.0,\n",
       " 10910.0,\n",
       " 13000.0,\n",
       " 15360.0,\n",
       " 12480.0,\n",
       " 19000.0,\n",
       " 17500.0,\n",
       " 19200.0,\n",
       " 13228.0,\n",
       " 16500.0,\n",
       " 18500.0,\n",
       " 18100.0,\n",
       " 15500.0,\n",
       " 15000.0,\n",
       " 18240.0,\n",
       " 15500.0,\n",
       " 17000.0,\n",
       " 16000.0,\n",
       " 17500.0,\n",
       " 10000.0,\n",
       " 5268.0,\n",
       " 13440.0,\n",
       " 14400.0,\n",
       " 14880.0,\n",
       " 15600.0,\n",
       " 19200.0,\n",
       " 18000.0,\n",
       " 14500.0,\n",
       " 13000.0,\n",
       " 17000.0,\n",
       " 16500.0,\n",
       " 11884.0,\n",
       " 11856.0,\n",
       " 15500.0,\n",
       " 84806.0,\n",
       " 15000.0,\n",
       " 15500.0,\n",
       " 13000.0,\n",
       " 18000.0,\n",
       " 15000.0,\n",
       " 87897.0,\n",
       " 18000.0,\n",
       " 18500.0,\n",
       " 17250.0,\n",
       " 13000.0,\n",
       " 15456.0,\n",
       " 18000.0,\n",
       " 17000.0,\n",
       " 18000.0,\n",
       " 19200.0,\n",
       " 18000.0,\n",
       " 13000.0,\n",
       " 11673.0,\n",
       " 16500.0,\n",
       " 13000.0,\n",
       " 17000.0,\n",
       " 15360.0,\n",
       " 14880.0,\n",
       " 14500.0,\n",
       " 17250.0,\n",
       " 16000.0,\n",
       " 13250.0,\n",
       " 18000.0,\n",
       " 18000.0,\n",
       " 19000.0,\n",
       " 17500.0,\n",
       " 350004.0,\n",
       " 15000.0,\n",
       " 19000.0,\n",
       " 16500.0,\n",
       " 14500.0,\n",
       " 13000.0,\n",
       " 17000.0,\n",
       " 18.0,\n",
       " 15500.0,\n",
       " 18240.0,\n",
       " 16100.0,\n",
       " 15500.0,\n",
       " 16000.0,\n",
       " 18000.0,\n",
       " 18000.0,\n",
       " 13000.0,\n",
       " 16500.0,\n",
       " 18000.0,\n",
       " 16900.0,\n",
       " 12480.0,\n",
       " 19000.0,\n",
       " 17000.0,\n",
       " 18000.0,\n",
       " 15500.0,\n",
       " 16500.0,\n",
       " 16000.0,\n",
       " 19500.0,\n",
       " 15500.0,\n",
       " 18240.0,\n",
       " 18720.0,\n",
       " 18000.0,\n",
       " 18000.0,\n",
       " 90000.0,\n",
       " 19200.0,\n",
       " 18000.0,\n",
       " 12960.0,\n",
       " 15215.0,\n",
       " 18550.0,\n",
       " 14000.0,\n",
       " 14000.0,\n",
       " 14000.0,\n",
       " 18000.0,\n",
       " 18000.0,\n",
       " 18500.0,\n",
       " 18000.0,\n",
       " 18000.0,\n",
       " 90000.0,\n",
       " 82560.0,\n",
       " 90000.0,\n",
       " 18000.0,\n",
       " 18000.0,\n",
       " 19750.0,\n",
       " 17000.0,\n",
       " 16320.0,\n",
       " 90000.0,\n",
       " 445004.0,\n",
       " 84000.0,\n",
       " 82500.0,\n",
       " 12480.0,\n",
       " 13440.0,\n",
       " 18000.0,\n",
       " 14000.0,\n",
       " 19342.0,\n",
       " 325003.0,\n",
       " 19000.0,\n",
       " 87600.0,\n",
       " 16000.0,\n",
       " 17500.0,\n",
       " 13070.0,\n",
       " 16000.0,\n",
       " 14500.0,\n",
       " 16281.0,\n",
       " 92500.0,\n",
       " 18000.0,\n",
       " 19500.0,\n",
       " 84000.0,\n",
       " 12500.0,\n",
       " 81000.0,\n",
       " 84000.0,\n",
       " 19500.0,\n",
       " 86400.0,\n",
       " 84000.0,\n",
       " 84000.0,\n",
       " 13440.0,\n",
       " 16000.0,\n",
       " 12825.0,\n",
       " 0.0,\n",
       " 12614.0,\n",
       " 15456.0,\n",
       " 17000.0,\n",
       " 17500.0,\n",
       " 27.0,\n",
       " 15000.0,\n",
       " 16250.0,\n",
       " 12960.0,\n",
       " 0.0,\n",
       " 0.0,\n",
       " 0.0,\n",
       " 13000.0,\n",
       " 17937.0,\n",
       " 17000.0,\n",
       " 16078.0,\n",
       " 18000.0,\n",
       " 15000.0,\n",
       " 14836.0,\n",
       " 12872.0,\n",
       " 19266.0,\n",
       " 13750.0,\n",
       " 17000.0,\n",
       " 14500.0,\n",
       " 14800.0,\n",
       " 95000.0,\n",
       " 17500.0,\n",
       " 16000.0,\n",
       " 18432.0,\n",
       " 18000.0,\n",
       " 15840.0,\n",
       " 85000.0,\n",
       " 17500.0,\n",
       " 90000.0,\n",
       " 87600.0,\n",
       " 84000.0,\n",
       " 14400.0,\n",
       " 14496.0,\n",
       " 14496.0,\n",
       " 16320.0,\n",
       " 15000.0,\n",
       " 19490.0,\n",
       " 19500.0,\n",
       " 15812.0,\n",
       " 19000.0,\n",
       " 15500.0,\n",
       " 12000.0,\n",
       " 15360.0,\n",
       " 17000.0,\n",
       " 15360.0,\n",
       " 14400.0,\n",
       " 13440.0,\n",
       " 16000.0,\n",
       " 18000.0,\n",
       " 18500.0,\n",
       " 18000.0,\n",
       " 18500.0,\n",
       " 15900.0,\n",
       " 16250.0,\n",
       " 10800.0,\n",
       " 16500.0,\n",
       " 18500.0,\n",
       " 18000.0,\n",
       " 16000.0,\n",
       " 14000.0,\n",
       " 18000.0,\n",
       " 12960.0,\n",
       " 17500.0,\n",
       " 16000.0,\n",
       " 13500.0,\n",
       " 13500.0,\n",
       " 17500.0,\n",
       " 12500.0,\n",
       " 18000.0,\n",
       " 12500.0,\n",
       " 17500.0,\n",
       " 81000.0,\n",
       " 84000.0,\n",
       " 90000.0,\n",
       " 87000.0,\n",
       " 19200.0,\n",
       " 12182.0,\n",
       " 13440.0,\n",
       " 0.0,\n",
       " 18500.0,\n",
       " 0.0,\n",
       " 0.0,\n",
       " 16500.0,\n",
       " 19000.0,\n",
       " 16000.0,\n",
       " 19000.0,\n",
       " 18000.0,\n",
       " 86400.0,\n",
       " 85000.0,\n",
       " 86400.0,\n",
       " 84000.0,\n",
       " 9975.0,\n",
       " 16750.0,\n",
       " 0.0,\n",
       " 18048.0,\n",
       " 15000.0,\n",
       " 18500.0,\n",
       " 15000.0,\n",
       " 16000.0,\n",
       " 16150.0,\n",
       " 15360.0,\n",
       " 19000.0,\n",
       " 80200.0,\n",
       " 19000.0,\n",
       " 84000.0,\n",
       " 17760.0,\n",
       " 15250.0,\n",
       " 19200.0,\n",
       " 16000.0,\n",
       " 14400.0,\n",
       " 17500.0,\n",
       " 15500.0,\n",
       " 12500.0,\n",
       " 12000.0,\n",
       " 0.0,\n",
       " 85000.0,\n",
       " 0.0,\n",
       " 15000.0,\n",
       " 17000.0,\n",
       " 17000.0,\n",
       " 17500.0,\n",
       " 0.0,\n",
       " 17000.0,\n",
       " 16000.0,\n",
       " 18000.0,\n",
       " 19000.0,\n",
       " 15000.0,\n",
       " 18240.0,\n",
       " 13440.0,\n",
       " 13440.0,\n",
       " 14400.0,\n",
       " 14400.0,\n",
       " 12000.0,\n",
       " 12000.0,\n",
       " 82000.0,\n",
       " 87000.0,\n",
       " 81000.0,\n",
       " 19500.0,\n",
       " 11500.0,\n",
       " 17000.0,\n",
       " 15000.0,\n",
       " 13440.0,\n",
       " 16320.0,\n",
       " 12500.0,\n",
       " 15500.0,\n",
       " 13500.0,\n",
       " 18000.0,\n",
       " 13440.0,\n",
       " 17000.0,\n",
       " 18000.0,\n",
       " 90000.0,\n",
       " 81000.0,\n",
       " 17500.0,\n",
       " 13750.0,\n",
       " 13750.0,\n",
       " 422504.0,\n",
       " 19897.0,\n",
       " 520005.0,\n",
       " 0.0,\n",
       " 16320.0,\n",
       " 14400.0,\n",
       " 19363.0,\n",
       " 19200.0,\n",
       " 17280.0,\n",
       " 16972.0,\n",
       " 14400.0,\n",
       " 14400.0,\n",
       " 16464.0,\n",
       " 15120.0,\n",
       " 15072.0,\n",
       " 16512.0,\n",
       " 16560.0,\n",
       " 18432.0,\n",
       " 90000.0,\n",
       " 19875.0,\n",
       " 88800.0,\n",
       " 14500.0,\n",
       " 566400.0,\n",
       " 528000.0,\n",
       " 470400.0,\n",
       " 450000.0,\n",
       " 775000.0,\n",
       " 625000.0,\n",
       " 19000.0,\n",
       " 17000.0,\n",
       " 19968.0,\n",
       " 18432.0,\n",
       " 18000.0,\n",
       " 19906.0,\n",
       " 17500.0,\n",
       " 18000.0,\n",
       " 792000.0,\n",
       " 15840.0,\n",
       " 350000.0,\n",
       " 15000.0,\n",
       " 16000.0,\n",
       " 17500.0,\n",
       " 19680.0,\n",
       " 18240.0,\n",
       " 18000.0,\n",
       " 19500.0,\n",
       " 9600.0,\n",
       " 16000.0,\n",
       " 18000.0,\n",
       " 18000.0,\n",
       " 16800.0,\n",
       " 85000.0,\n",
       " 19910.0,\n",
       " 84000.0,\n",
       " 15000.0,\n",
       " 18000.0,\n",
       " 19000.0,\n",
       " 15000.0,\n",
       " 18000.0,\n",
       " 17000.0,\n",
       " 18000.0,\n",
       " 0.0,\n",
       " 15934.0,\n",
       " 11249.0,\n",
       " 15500.0,\n",
       " 0.0,\n",
       " 19200.0,\n",
       " 19000.0,\n",
       " 19000.0,\n",
       " 18750.0,\n",
       " 17500.0,\n",
       " 15000.0,\n",
       " 19500.0,\n",
       " 230002.0,\n",
       " 17500.0,\n",
       " 18500.0,\n",
       " 16000.0,\n",
       " 13440.0,\n",
       " 0.0,\n",
       " 15000.0,\n",
       " 5851.0,\n",
       " 19200.0,\n",
       " 6696.0,\n",
       " 14400.0,\n",
       " 522000.0,\n",
       " 950000.0,\n",
       " 260000.0,\n",
       " 400000.0,\n",
       " 450000.0,\n",
       " 19000.0,\n",
       " 16800.0,\n",
       " 19000.0,\n",
       " 19000.0,\n",
       " 15500.0,\n",
       " 7000.0,\n",
       " 18000.0,\n",
       " 14560.0,\n",
       " 13440.0,\n",
       " 19000.0,\n",
       " 17000.0,\n",
       " 17000.0,\n",
       " 16000.0,\n",
       " 13440.0,\n",
       " 18500.0,\n",
       " 13000.0,\n",
       " 17000.0,\n",
       " 374400.0,\n",
       " 451200.0,\n",
       " 528000.0,\n",
       " 508800.0,\n",
       " 451200.0,\n",
       " 451200.0,\n",
       " 470400.0,\n",
       " 393600.0,\n",
       " 432000.0,\n",
       " 403200.0,\n",
       " 393600.0,\n",
       " 87500.0,\n",
       " 5760.0,\n",
       " 16500.0,\n",
       " 85200.0,\n",
       " 87500.0,\n",
       " 84000.0,\n",
       " 17000.0,\n",
       " 86000.0,\n",
       " 0.0,\n",
       " 17000.0,\n",
       " 19500.0,\n",
       " 275000.0,\n",
       " 210000.0,\n",
       " 274550.0,\n",
       " 480000.0,\n",
       " 192500.0,\n",
       " 403200.0,\n",
       " 556800.0,\n",
       " 494400.0,\n",
       " 432000.0,\n",
       " 900000.0,\n",
       " 860000.0,\n",
       " 800000.0,\n",
       " 17932.0,\n",
       " 17000.0,\n",
       " 19000.0,\n",
       " 19000.0,\n",
       " 14400.0,\n",
       " 16250.0,\n",
       " 15600.0,\n",
       " 16000.0,\n",
       " 17500.0,\n",
       " 19200.0,\n",
       " 17000.0,\n",
       " 16320.0,\n",
       " 16320.0,\n",
       " 500000.0,\n",
       " 18000.0,\n",
       " 85000.0,\n",
       " 550000.0,\n",
       " 13440.0,\n",
       " 924000.0,\n",
       " 18000.0,\n",
       " 90000.0,\n",
       " 9120.0,\n",
       " 14880.0,\n",
       " 16320.0,\n",
       " 16320.0,\n",
       " 17000.0,\n",
       " 19000.0,\n",
       " 18000.0,\n",
       " 16000.0,\n",
       " 18000.0,\n",
       " 18000.0,\n",
       " 17000.0,\n",
       " 17500.0,\n",
       " 18143.0,\n",
       " 14750.0,\n",
       " 0.0,\n",
       " 15600.0,\n",
       " 500690.0,\n",
       " 90000.0,\n",
       " 500000.0,\n",
       " 276000.0,\n",
       " 10800.0,\n",
       " 17000.0,\n",
       " 13440.0,\n",
       " 14500.0,\n",
       " 18500.0,\n",
       " 19000.0,\n",
       " 17280.0,\n",
       " 9600.0,\n",
       " 13000.0,\n",
       " 19000.0,\n",
       " 12480.0,\n",
       " 14500.0,\n",
       " 15360.0,\n",
       " 15500.0,\n",
       " 15500.0,\n",
       " 18000.0,\n",
       " 86400.0,\n",
       " 15360.0,\n",
       " 19500.0,\n",
       " 17760.0,\n",
       " 17000.0,\n",
       " 19200.0,\n",
       " 16000.0,\n",
       " 18240.0,\n",
       " 15000.0,\n",
       " 15552.0,\n",
       " 17000.0,\n",
       " 18250.0,\n",
       " 18000.0,\n",
       " 15000.0,\n",
       " 16200.0,\n",
       " 13152.0,\n",
       " 16226.0,\n",
       " 17000.0,\n",
       " 19387.0,\n",
       " 19250.0,\n",
       " 19500.0,\n",
       " 18000.0,\n",
       " 18500.0,\n",
       " 322503.0,\n",
       " 12500.0,\n",
       " 19000.0,\n",
       " 16320.0,\n",
       " 10780.0,\n",
       " 19000.0,\n",
       " 17030.0,\n",
       " 15500.0,\n",
       " 255003.0,\n",
       " 0.0,\n",
       " 17350.0,\n",
       " 90000.0,\n",
       " 18000.0,\n",
       " 90000.0,\n",
       " 0.0,\n",
       " 82000.0,\n",
       " 0.0,\n",
       " 83000.0,\n",
       " 0.0,\n",
       " 243802.0,\n",
       " 550000.0,\n",
       " 850000.0,\n",
       " 500000.0,\n",
       " 14880.0,\n",
       " 85000.0,\n",
       " 16630.0,\n",
       " 18500.0,\n",
       " 84000.0,\n",
       " 17280.0,\n",
       " 84000.0,\n",
       " 14400.0,\n",
       " 15000.0,\n",
       " 18500.0,\n",
       " 18500.0,\n",
       " 16320.0,\n",
       " 467504.0,\n",
       " 81600.0,\n",
       " 18000.0,\n",
       " 16999.0,\n",
       " 13440.0,\n",
       " 87500.0,\n",
       " 15000.0,\n",
       " 19000.0,\n",
       " 19200.0,\n",
       " 18000.0,\n",
       " 18500.0,\n",
       " 370003.0,\n",
       " 19000.0,\n",
       " 18500.0,\n",
       " 18000.0,\n",
       " 7200.0,\n",
       " 17000.0,\n",
       " 16500.0,\n",
       " 18240.0,\n",
       " 0.0,\n",
       " 16003.0,\n",
       " 19000.0,\n",
       " 19500.0,\n",
       " 15360.0,\n",
       " 15360.0,\n",
       " 14880.0,\n",
       " 18000.0,\n",
       " 15600.0,\n",
       " 16000.0,\n",
       " 18000.0,\n",
       " 18000.0,\n",
       " 16000.0,\n",
       " 17000.0,\n",
       " 0.0,\n",
       " 6760.0,\n",
       " 18000.0,\n",
       " 12500.0,\n",
       " 17568.0,\n",
       " 14880.0,\n",
       " 16500.0,\n",
       " 18000.0,\n",
       " 0.0,\n",
       " 0.0,\n",
       " 403200.0,\n",
       " 16000.0,\n",
       " 17000.0,\n",
       " 0.0,\n",
       " 480000.0,\n",
       " 480000.0,\n",
       " 16000.0,\n",
       " 315003.0,\n",
       " 10000.0,\n",
       " 84000.0,\n",
       " 88500.0,\n",
       " 365000.0,\n",
       " 180000.0,\n",
       " 825000.0,\n",
       " 900000.0,\n",
       " 17000.0,\n",
       " 14500.0,\n",
       " 18000.0,\n",
       " 18500.0,\n",
       " 18250.0,\n",
       " 18000.0,\n",
       " 15000.0,\n",
       " 19500.0,\n",
       " 15227.0,\n",
       " 18000.0,\n",
       " 19000.0,\n",
       " 13440.0,\n",
       " 19000.0,\n",
       " 650000.0,\n",
       " 850000.0,\n",
       " 399990.0,\n",
       " 600000.0,\n",
       " 450000.0,\n",
       " 210000.0,\n",
       " 15360.0,\n",
       " 450000.0,\n",
       " 86000.0,\n",
       " 16523.0,\n",
       " 95000.0,\n",
       " 14000.0,\n",
       " 10500.0,\n",
       " 15000.0,\n",
       " 15000.0,\n",
       " 10500.0,\n",
       " 16000.0,\n",
       " 10500.0,\n",
       " 10500.0,\n",
       " 15000.0,\n",
       " 10500.0,\n",
       " 16999.0,\n",
       " 11884.0,\n",
       " 13000.0,\n",
       " 16320.0,\n",
       " 14400.0,\n",
       " 19250.0,\n",
       " 18500.0,\n",
       " 12500.0,\n",
       " 19300.0,\n",
       " 19500.0,\n",
       " 16500.0,\n",
       " 225002.0,\n",
       " 18500.0,\n",
       " 18000.0,\n",
       " 0.0,\n",
       " 0.0,\n",
       " 0.0,\n",
       " 17500.0,\n",
       " 82500.0,\n",
       " 18500.0,\n",
       " 18000.0,\n",
       " 18000.0,\n",
       " 18500.0,\n",
       " 9500.0,\n",
       " 725000.0,\n",
       " 425000.0,\n",
       " 18500.0,\n",
       " 190002.0,\n",
       " 18000.0,\n",
       " 19000.0,\n",
       " 19000.0,\n",
       " 17000.0,\n",
       " 15000.0,\n",
       " 16500.0,\n",
       " 90000.0,\n",
       " 0.0,\n",
       " 18500.0,\n",
       " 11000.0,\n",
       " 0.0,\n",
       " 18000.0,\n",
       " 0.0,\n",
       " 6469.0,\n",
       " 90000.0,\n",
       " 15000.0,\n",
       " 84000.0,\n",
       " 16250.0,\n",
       " 17500.0,\n",
       " 18000.0,\n",
       " 19000.0,\n",
       " 350000.0,\n",
       " 16800.0,\n",
       " 18000.0,\n",
       " 325000.0,\n",
       " 12000.0,\n",
       " ...]"
      ]
     },
     "execution_count": 22,
     "metadata": {},
     "output_type": "execute_result"
    }
   ],
   "source": [
    "# I added x = x[0:6] to the function cleanNumeric\n",
    "# so that, the result of the following list is EMPTY -> which means that there's no Salary above 1 million\n",
    "salaryOutlier2 = tempSal[((tempSal.normedSalary > 80000) & (tempSal.ContractType == 'non-specified'))\n",
    "                         |\n",
    "                         ((tempSal.ContractType == 'non-specified')& (tempSal.normedSalary < 20000))]\n",
    "print(len(salaryOutlier2))\n",
    "list(salaryOutlier2.normedSalary)"
   ]
  },
  {
   "cell_type": "code",
   "execution_count": 23,
   "metadata": {},
   "outputs": [],
   "source": [
    "tempSal = tempSal[((tempSal.normedSalary < 68000) & (tempSal.normedSalary > 20000))]"
   ]
  },
  {
   "cell_type": "code",
   "execution_count": 24,
   "metadata": {},
   "outputs": [],
   "source": [
    "# Inner join categorical and Salary dataframes to remove the non-sense salary entries\n",
    "df = df.merge(tempSal, how='inner',left_on='Id', right_on='Id')"
   ]
  },
  {
   "cell_type": "code",
   "execution_count": 25,
   "metadata": {},
   "outputs": [
    {
     "data": {
      "text/html": [
       "<div>\n",
       "<style scoped>\n",
       "    .dataframe tbody tr th:only-of-type {\n",
       "        vertical-align: middle;\n",
       "    }\n",
       "\n",
       "    .dataframe tbody tr th {\n",
       "        vertical-align: top;\n",
       "    }\n",
       "\n",
       "    .dataframe thead th {\n",
       "        text-align: right;\n",
       "    }\n",
       "</style>\n",
       "<table border=\"1\" class=\"dataframe\">\n",
       "  <thead>\n",
       "    <tr style=\"text-align: right;\">\n",
       "      <th></th>\n",
       "      <th>Id</th>\n",
       "      <th>normedSalary</th>\n",
       "    </tr>\n",
       "  </thead>\n",
       "  <tbody>\n",
       "    <tr>\n",
       "      <th>count</th>\n",
       "      <td>4.016200e+04</td>\n",
       "      <td>40162.000000</td>\n",
       "    </tr>\n",
       "    <tr>\n",
       "      <th>mean</th>\n",
       "      <td>6.888052e+07</td>\n",
       "      <td>35890.056421</td>\n",
       "    </tr>\n",
       "    <tr>\n",
       "      <th>std</th>\n",
       "      <td>4.213380e+06</td>\n",
       "      <td>11182.820614</td>\n",
       "    </tr>\n",
       "    <tr>\n",
       "      <th>min</th>\n",
       "      <td>1.261263e+07</td>\n",
       "      <td>20016.000000</td>\n",
       "    </tr>\n",
       "    <tr>\n",
       "      <th>25%</th>\n",
       "      <td>6.835615e+07</td>\n",
       "      <td>27000.000000</td>\n",
       "    </tr>\n",
       "    <tr>\n",
       "      <th>50%</th>\n",
       "      <td>6.922156e+07</td>\n",
       "      <td>33500.000000</td>\n",
       "    </tr>\n",
       "    <tr>\n",
       "      <th>75%</th>\n",
       "      <td>7.127683e+07</td>\n",
       "      <td>42500.000000</td>\n",
       "    </tr>\n",
       "    <tr>\n",
       "      <th>max</th>\n",
       "      <td>7.270524e+07</td>\n",
       "      <td>67800.000000</td>\n",
       "    </tr>\n",
       "  </tbody>\n",
       "</table>\n",
       "</div>"
      ],
      "text/plain": [
       "                 Id  normedSalary\n",
       "count  4.016200e+04  40162.000000\n",
       "mean   6.888052e+07  35890.056421\n",
       "std    4.213380e+06  11182.820614\n",
       "min    1.261263e+07  20016.000000\n",
       "25%    6.835615e+07  27000.000000\n",
       "50%    6.922156e+07  33500.000000\n",
       "75%    7.127683e+07  42500.000000\n",
       "max    7.270524e+07  67800.000000"
      ]
     },
     "execution_count": 25,
     "metadata": {},
     "output_type": "execute_result"
    }
   ],
   "source": [
    "df.describe()"
   ]
  },
  {
   "cell_type": "code",
   "execution_count": 26,
   "metadata": {},
   "outputs": [],
   "source": [
    "df = df[[\"Id\",\n",
    "\"Title_x\",\n",
    "\"Location_x\",\n",
    "\"Company_x\",\n",
    "\"ContractType_x\",\n",
    "\"ContractTime_x\",\n",
    "\"Category_x\",\n",
    "\"OpenDate_x\",\n",
    "\"CloseDate_x\",\n",
    "\"Source_x\",\n",
    "\"normedSalary\"]]"
   ]
  },
  {
   "cell_type": "code",
   "execution_count": 27,
   "metadata": {},
   "outputs": [
    {
     "data": {
      "text/plain": [
       "33500.0"
      ]
     },
     "execution_count": 27,
     "metadata": {},
     "output_type": "execute_result"
    }
   ],
   "source": [
    "df[\"normedSalary\"].median()"
   ]
  },
  {
   "cell_type": "code",
   "execution_count": 28,
   "metadata": {},
   "outputs": [],
   "source": [
    "df[\"normedSalary\"] = df[\"normedSalary\"].round()"
   ]
  },
  {
   "cell_type": "code",
   "execution_count": 29,
   "metadata": {},
   "outputs": [],
   "source": [
    "df[\"normedSalary\"].fillna(df.groupby(\"ContractType_x\")[\"normedSalary\"].transform(\"mean\"), inplace=True)"
   ]
  },
  {
   "cell_type": "code",
   "execution_count": 30,
   "metadata": {},
   "outputs": [
    {
     "data": {
      "text/html": [
       "<div>\n",
       "<style scoped>\n",
       "    .dataframe tbody tr th:only-of-type {\n",
       "        vertical-align: middle;\n",
       "    }\n",
       "\n",
       "    .dataframe tbody tr th {\n",
       "        vertical-align: top;\n",
       "    }\n",
       "\n",
       "    .dataframe thead th {\n",
       "        text-align: right;\n",
       "    }\n",
       "</style>\n",
       "<table border=\"1\" class=\"dataframe\">\n",
       "  <thead>\n",
       "    <tr style=\"text-align: right;\">\n",
       "      <th></th>\n",
       "      <th>Id</th>\n",
       "      <th>normedSalary</th>\n",
       "    </tr>\n",
       "  </thead>\n",
       "  <tbody>\n",
       "    <tr>\n",
       "      <th>count</th>\n",
       "      <td>4.016200e+04</td>\n",
       "      <td>40162.000000</td>\n",
       "    </tr>\n",
       "    <tr>\n",
       "      <th>mean</th>\n",
       "      <td>6.888052e+07</td>\n",
       "      <td>35890.056421</td>\n",
       "    </tr>\n",
       "    <tr>\n",
       "      <th>std</th>\n",
       "      <td>4.213380e+06</td>\n",
       "      <td>11182.820614</td>\n",
       "    </tr>\n",
       "    <tr>\n",
       "      <th>min</th>\n",
       "      <td>1.261263e+07</td>\n",
       "      <td>20016.000000</td>\n",
       "    </tr>\n",
       "    <tr>\n",
       "      <th>25%</th>\n",
       "      <td>6.835615e+07</td>\n",
       "      <td>27000.000000</td>\n",
       "    </tr>\n",
       "    <tr>\n",
       "      <th>50%</th>\n",
       "      <td>6.922156e+07</td>\n",
       "      <td>33500.000000</td>\n",
       "    </tr>\n",
       "    <tr>\n",
       "      <th>75%</th>\n",
       "      <td>7.127683e+07</td>\n",
       "      <td>42500.000000</td>\n",
       "    </tr>\n",
       "    <tr>\n",
       "      <th>max</th>\n",
       "      <td>7.270524e+07</td>\n",
       "      <td>67800.000000</td>\n",
       "    </tr>\n",
       "  </tbody>\n",
       "</table>\n",
       "</div>"
      ],
      "text/plain": [
       "                 Id  normedSalary\n",
       "count  4.016200e+04  40162.000000\n",
       "mean   6.888052e+07  35890.056421\n",
       "std    4.213380e+06  11182.820614\n",
       "min    1.261263e+07  20016.000000\n",
       "25%    6.835615e+07  27000.000000\n",
       "50%    6.922156e+07  33500.000000\n",
       "75%    7.127683e+07  42500.000000\n",
       "max    7.270524e+07  67800.000000"
      ]
     },
     "execution_count": 30,
     "metadata": {},
     "output_type": "execute_result"
    }
   ],
   "source": [
    "df.describe()"
   ]
  },
  {
   "cell_type": "code",
   "execution_count": 31,
   "metadata": {},
   "outputs": [
    {
     "data": {
      "text/plain": [
       "33500.0"
      ]
     },
     "execution_count": 31,
     "metadata": {},
     "output_type": "execute_result"
    }
   ],
   "source": [
    "df[\"normedSalary\"].median()"
   ]
  },
  {
   "cell_type": "code",
   "execution_count": 32,
   "metadata": {},
   "outputs": [
    {
     "data": {
      "text/plain": [
       "array([[<AxesSubplot:title={'center':'contract'}>,\n",
       "        <AxesSubplot:title={'center':'non-specified'}>],\n",
       "       [<AxesSubplot:title={'center':'permanent'}>, <AxesSubplot:>]],\n",
       "      dtype=object)"
      ]
     },
     "execution_count": 32,
     "metadata": {},
     "output_type": "execute_result"
    },
    {
     "data": {
      "image/png": "[encoded data removed]",
      "text/plain": [
       "<Figure size 432x288 with 4 Axes>"
      ]
     },
     "metadata": {},
     "output_type": "display_data"
    }
   ],
   "source": [
    "df.hist(by=\"ContractTime_x\", column=\"normedSalary\")"
   ]
  },
  {
   "cell_type": "code",
   "execution_count": 33,
   "metadata": {},
   "outputs": [
    {
     "data": {
      "text/plain": [
       "array([[<AxesSubplot:title={'center':'full_time'}>,\n",
       "        <AxesSubplot:title={'center':'non-specified'}>],\n",
       "       [<AxesSubplot:title={'center':'part_time'}>, <AxesSubplot:>]],\n",
       "      dtype=object)"
      ]
     },
     "execution_count": 33,
     "metadata": {},
     "output_type": "execute_result"
    },
    {
     "data": {
      "image/png": "[encoded data removed]",
      "text/plain": [
       "<Figure size 432x288 with 4 Axes>"
      ]
     },
     "metadata": {},
     "output_type": "display_data"
    }
   ],
   "source": [
    "df.hist(by=\"ContractType_x\", column=\"normedSalary\")"
   ]
  },
  {
   "cell_type": "code",
   "execution_count": 34,
   "metadata": {},
   "outputs": [
    {
     "data": {
      "image/png": "[encoded data removed]",
      "text/plain": [
       "<Figure size 432x288 with 1 Axes>"
      ]
     },
     "metadata": {},
     "output_type": "display_data"
    }
   ],
   "source": [
    "bp = df.boxplot(column='normedSalary')"
   ]
  },
  {
   "cell_type": "code",
   "execution_count": 35,
   "metadata": {},
   "outputs": [
    {
     "name": "stdout",
     "output_type": "stream",
     "text": [
      "<class 'pandas.core.frame.DataFrame'>\n",
      "Int64Index: 40162 entries, 0 to 40161\n",
      "Data columns (total 11 columns):\n",
      " #   Column          Non-Null Count  Dtype  \n",
      "---  ------          --------------  -----  \n",
      " 0   Id              40162 non-null  int64  \n",
      " 1   Title_x         40162 non-null  object \n",
      " 2   Location_x      40162 non-null  object \n",
      " 3   Company_x       40162 non-null  object \n",
      " 4   ContractType_x  40162 non-null  object \n",
      " 5   ContractTime_x  40162 non-null  object \n",
      " 6   Category_x      40162 non-null  object \n",
      " 7   OpenDate_x      40162 non-null  object \n",
      " 8   CloseDate_x     40162 non-null  object \n",
      " 9   Source_x        40162 non-null  object \n",
      " 10  normedSalary    40162 non-null  float64\n",
      "dtypes: float64(1), int64(1), object(9)\n",
      "memory usage: 3.7+ MB\n"
     ]
    }
   ],
   "source": [
    "df.info()"
   ]
  },
  {
   "cell_type": "markdown",
   "metadata": {},
   "source": [
    "### Categorical Cleansing Functions\n",
    "    - At this stage, I am going to deal with the categorical data. Categorical data are against the numerical which can be quantified. \n",
    "    \n",
    "    - The following are common functions which are used during the assessment to perform required activities according to the observations."
   ]
  },
  {
   "cell_type": "code",
   "execution_count": 36,
   "metadata": {},
   "outputs": [],
   "source": [
    "def similar(a, b):\n",
    "    return SequenceMatcher(None, a, b).ratio()"
   ]
  },
  {
   "cell_type": "code",
   "execution_count": 37,
   "metadata": {},
   "outputs": [],
   "source": [
    "from collections import Counter\n",
    "    \n",
    "# find the high frequency location to low frequency location\n",
    "def match_highfreq_To_lowfreq(data, min_threshold, max_threshold):\n",
    "   # check low frequency Title names\n",
    "    lowfreq_data_list = [k for k,v in Counter(data).items() if v<=5]\n",
    "    print (\"Number of lowfreq_data\", len(lowfreq_data_list))\n",
    "    highfreq_data_list = list(set(data[~(data.isnull())]).difference(lowfreq_data_list))\n",
    "    print (\"Number of highfreq_data\", len(highfreq_data_list))\n",
    "    # the printed data tells that probably not many companies posted more than 5 jobs in those years.\n",
    "\n",
    "\n",
    "    match_data={}\n",
    "    for lowfreq_data in lowfreq_data_list:\n",
    "        for highfreq_data in highfreq_data_list:\n",
    "            ratio = similar(lowfreq_data.upper(), highfreq_data.upper())\n",
    "            if ratio >= min_threshold and ratio <= max_threshold:\n",
    "                match_data[lowfreq_data] = highfreq_data\n",
    "                print(lowfreq_data, \":\", highfreq_data, ratio)\n",
    "    return match_data"
   ]
  },
  {
   "cell_type": "code",
   "execution_count": 38,
   "metadata": {},
   "outputs": [],
   "source": [
    "# the following function, when called, will clean and normalize categorical columns\n",
    "def removeEndSpecialChar(x):\n",
    "    if pd.isnull(x):\n",
    "        return x\n",
    "    else:\n",
    "        # normalize to upper case letters\n",
    "        x = x.upper()\n",
    "        # remove special character at the end\n",
    "        x = re.sub(r\"\\W+$\", \" \", x)\n",
    "        x = re.sub(r\"\\*+k\", \" \", x)\n",
    "        # replace LIMITED with LTD\n",
    "        x = x.replace(\"LIMITED\", \"LTD\")\n",
    "        # replace \" AND \" with \" & \" for processing \n",
    "        x = x.replace(\" & \", \" AND \")\n",
    "        # remove all special characters except space and dot\n",
    "        x = re.sub(r'([^\\w\\s\\.]|_)', '', x)\n",
    "        # change \" AND \" back to \" & \" \n",
    "        x = x.replace(\" AND \", \" & \")\n",
    "        # replace multiple spaces with a single space, also trim spaces on both side\n",
    "        x = re.sub( '\\s+', ' ', x).strip()\n",
    "        return x"
   ]
  },
  {
   "cell_type": "code",
   "execution_count": 39,
   "metadata": {},
   "outputs": [],
   "source": [
    "def which_categorical_var(input):\n",
    "    c = df[input]\n",
    "    print(f\"The stats for the column >>{input} and {input}Normalized << includes:\")\n",
    "    print (len(set(c)), f\"different groups in the current {input} data set\")\n",
    "    df[f'{input}Normalized'] = c.apply(lambda y: removeEndSpecialChar(y))\n",
    "    print (len(set(df[f'{input}Normalized'])), f\"different groups after normalization in {input}Normalized dataset\")"
   ]
  },
  {
   "cell_type": "code",
   "execution_count": 40,
   "metadata": {},
   "outputs": [],
   "source": [
    "def replacefunc(x):\n",
    "    if pd.isnull(x):\n",
    "        return x\n",
    "    else:\n",
    "        x = re.sub(\"\", PermSalary, x)\n",
    "        return x"
   ]
  },
  {
   "cell_type": "markdown",
   "metadata": {},
   "source": [
    "### Contract Type"
   ]
  },
  {
   "cell_type": "code",
   "execution_count": 41,
   "metadata": {},
   "outputs": [
    {
     "data": {
      "text/plain": [
       "non-specified    30491\n",
       "full_time         9073\n",
       "part_time          598\n",
       "Name: ContractType_x, dtype: int64"
      ]
     },
     "execution_count": 41,
     "metadata": {},
     "output_type": "execute_result"
    }
   ],
   "source": [
    "df.ContractType_x.value_counts()"
   ]
  },
  {
   "cell_type": "code",
   "execution_count": 42,
   "metadata": {},
   "outputs": [
    {
     "name": "stdout",
     "output_type": "stream",
     "text": [
      "The stats for the column >>ContractType_x and ContractType_xNormalized << includes:\n",
      "3 different groups in the current ContractType_x data set\n",
      "3 different groups after normalization in ContractType_xNormalized dataset\n"
     ]
    }
   ],
   "source": [
    "which_categorical_var('ContractType_x')"
   ]
  },
  {
   "cell_type": "code",
   "execution_count": 43,
   "metadata": {},
   "outputs": [
    {
     "data": {
      "text/plain": [
       "NONSPECIFIED    30491\n",
       "FULLTIME         9073\n",
       "PARTTIME          598\n",
       "Name: ContractType_xNormalized, dtype: int64"
      ]
     },
     "execution_count": 43,
     "metadata": {},
     "output_type": "execute_result"
    }
   ],
   "source": [
    "df.ContractType_xNormalized.value_counts()"
   ]
  },
  {
   "cell_type": "markdown",
   "metadata": {},
   "source": [
    "### Contract Time"
   ]
  },
  {
   "cell_type": "code",
   "execution_count": 44,
   "metadata": {},
   "outputs": [
    {
     "data": {
      "text/plain": [
       "permanent        26403\n",
       "non-specified     9930\n",
       "contract          3829\n",
       "Name: ContractTime_x, dtype: int64"
      ]
     },
     "execution_count": 44,
     "metadata": {},
     "output_type": "execute_result"
    }
   ],
   "source": [
    "df.ContractTime_x.value_counts()"
   ]
  },
  {
   "cell_type": "code",
   "execution_count": 45,
   "metadata": {},
   "outputs": [
    {
     "name": "stdout",
     "output_type": "stream",
     "text": [
      "The stats for the column >>ContractTime_x and ContractTime_xNormalized << includes:\n",
      "3 different groups in the current ContractTime_x data set\n",
      "3 different groups after normalization in ContractTime_xNormalized dataset\n"
     ]
    }
   ],
   "source": [
    "which_categorical_var('ContractTime_x')"
   ]
  },
  {
   "cell_type": "code",
   "execution_count": 46,
   "metadata": {},
   "outputs": [
    {
     "data": {
      "text/plain": [
       "PERMANENT       26403\n",
       "NONSPECIFIED     9930\n",
       "CONTRACT         3829\n",
       "Name: ContractTime_xNormalized, dtype: int64"
      ]
     },
     "execution_count": 46,
     "metadata": {},
     "output_type": "execute_result"
    }
   ],
   "source": [
    "df.ContractTime_xNormalized.value_counts()"
   ]
  },
  {
   "cell_type": "markdown",
   "metadata": {},
   "source": [
    "### Running a linear regression to find out relationship between different columns (hypothesis testing)\n",
    "    - The intention is to impute categorical data.\n",
    "    \n",
    "    - In other words, the graphs in previous section bring about the doubt that we can impute 'Permanent' contract for all the 'Full time' contract types. Based on this assumption, I'm going to run a linear regression to test my hypothesis.\n",
    "    \n",
    "    - In order to run the linear regresion, I have to take the following steps:\n",
    "        1. Map string values to responsive float digits so that I can run mathematical linear regression. \n",
    "        2. Remove non-specified rows to run the regression only among given and clean data\n",
    "        3. Build the regression model and draw the result in a graph\n",
    "    \n",
    "    - As a result, I use the normalised contract type and time data to create a temporary list and data frame."
   ]
  },
  {
   "cell_type": "code",
   "execution_count": 47,
   "metadata": {},
   "outputs": [],
   "source": [
    "conTypeList = list(df.ContractType_xNormalized)\n",
    "conTimeList = list(df.ContractTime_xNormalized)"
   ]
  },
  {
   "cell_type": "code",
   "execution_count": 48,
   "metadata": {},
   "outputs": [],
   "source": [
    "tempListType =[]\n",
    "for i in conTypeList:\n",
    "    if i is not None:\n",
    "        tempListType.append(i)"
   ]
  },
  {
   "cell_type": "code",
   "execution_count": 49,
   "metadata": {},
   "outputs": [],
   "source": [
    "tempListTime =[]\n",
    "for i in conTimeList:\n",
    "    if i is not None:\n",
    "        tempListTime.append(i)"
   ]
  },
  {
   "cell_type": "code",
   "execution_count": 50,
   "metadata": {},
   "outputs": [],
   "source": [
    "numerator_ConType = []\n",
    "for i in tempListType:\n",
    "    if i:\n",
    "        if i == 'FULLTIME':\n",
    "            i = 2\n",
    "        elif i == 'PARTTIME':\n",
    "            i = 1\n",
    "        else:\n",
    "            i = 0\n",
    "    numerator_ConType.append(i)\n",
    "ncType = numerator_ConType\n",
    "conTypeS = pd.Series(data=ncType, index = df.index)"
   ]
  },
  {
   "cell_type": "code",
   "execution_count": 51,
   "metadata": {},
   "outputs": [],
   "source": [
    "numerator_ConTime = []\n",
    "for i in tempListTime:\n",
    "    if i:\n",
    "        if i == 'PERMANENT':\n",
    "            i = 2\n",
    "        elif i == 'CONTRACT':\n",
    "            i = 1\n",
    "        else:\n",
    "            i = 0\n",
    "    numerator_ConTime.append(i)\n",
    "ncTime = numerator_ConTime\n",
    "conTimeS = pd.Series(data=ncTime, index = df.index)"
   ]
  },
  {
   "cell_type": "code",
   "execution_count": 52,
   "metadata": {},
   "outputs": [],
   "source": [
    "df['conTypeS'] = conTypeS"
   ]
  },
  {
   "cell_type": "code",
   "execution_count": 53,
   "metadata": {},
   "outputs": [],
   "source": [
    "df['conTimeS'] = conTimeS"
   ]
  },
  {
   "cell_type": "code",
   "execution_count": 54,
   "metadata": {},
   "outputs": [],
   "source": [
    "df['conTypeS'] = pd.to_numeric(df['conTypeS'], downcast='float')"
   ]
  },
  {
   "cell_type": "code",
   "execution_count": 55,
   "metadata": {},
   "outputs": [],
   "source": [
    "df['conTimeS'] = pd.to_numeric(df['conTimeS'], downcast='float')"
   ]
  },
  {
   "cell_type": "code",
   "execution_count": 56,
   "metadata": {},
   "outputs": [],
   "source": [
    "filtered_data1 = df[df.conTypeS > 0]"
   ]
  },
  {
   "cell_type": "code",
   "execution_count": 57,
   "metadata": {},
   "outputs": [
    {
     "name": "stdout",
     "output_type": "stream",
     "text": [
      "<class 'pandas.core.frame.DataFrame'>\n",
      "Int64Index: 9671 entries, 72 to 40157\n",
      "Data columns (total 15 columns):\n",
      " #   Column                    Non-Null Count  Dtype  \n",
      "---  ------                    --------------  -----  \n",
      " 0   Id                        9671 non-null   int64  \n",
      " 1   Title_x                   9671 non-null   object \n",
      " 2   Location_x                9671 non-null   object \n",
      " 3   Company_x                 9671 non-null   object \n",
      " 4   ContractType_x            9671 non-null   object \n",
      " 5   ContractTime_x            9671 non-null   object \n",
      " 6   Category_x                9671 non-null   object \n",
      " 7   OpenDate_x                9671 non-null   object \n",
      " 8   CloseDate_x               9671 non-null   object \n",
      " 9   Source_x                  9671 non-null   object \n",
      " 10  normedSalary              9671 non-null   float64\n",
      " 11  ContractType_xNormalized  9671 non-null   object \n",
      " 12  ContractTime_xNormalized  9671 non-null   object \n",
      " 13  conTypeS                  9671 non-null   float32\n",
      " 14  conTimeS                  9671 non-null   float32\n",
      "dtypes: float32(2), float64(1), int64(1), object(11)\n",
      "memory usage: 1.1+ MB\n"
     ]
    }
   ],
   "source": [
    "filtered_data1.info()"
   ]
  },
  {
   "cell_type": "code",
   "execution_count": 58,
   "metadata": {},
   "outputs": [
    {
     "data": {
      "text/plain": [
       "2.0    9073\n",
       "1.0     598\n",
       "Name: conTypeS, dtype: int64"
      ]
     },
     "execution_count": 58,
     "metadata": {},
     "output_type": "execute_result"
    }
   ],
   "source": [
    "filtered_data1.conTypeS.value_counts()"
   ]
  },
  {
   "cell_type": "code",
   "execution_count": 59,
   "metadata": {},
   "outputs": [],
   "source": [
    "filtered_data2 = filtered_data1[filtered_data1.conTimeS > 0]"
   ]
  },
  {
   "cell_type": "code",
   "execution_count": 60,
   "metadata": {},
   "outputs": [
    {
     "name": "stdout",
     "output_type": "stream",
     "text": [
      "formula: y = [[0.09322138]]x + [1.80288252]\n",
      "From [[0.09322138]] as the slope in regression formula, we can easily infer that there is very minimum relationship between the Type and Time of contracts\n"
     ]
    }
   ],
   "source": [
    "x_y = np.array(filtered_data2)\n",
    "\n",
    "x, y = x_y[:,-1], x_y[:,-2]\n",
    "\n",
    "# Reshaping\n",
    "x, y = x.reshape(-1,1), y.reshape(-1, 1)\n",
    "\n",
    "# Linear Regression Object \n",
    "lin_regression = LinearRegression()\n",
    "\n",
    "# Fitting linear model to the data\n",
    "lin_regression.fit(x,y)\n",
    "\n",
    "# Get slope of fitted line\n",
    "m = lin_regression.coef_\n",
    "\n",
    "# Get y-Intercept of the Line\n",
    "b = lin_regression.intercept_\n",
    "\n",
    "# Get Predictions for original x values\n",
    "# you can also get predictions for new data\n",
    "predictions = lin_regression.predict(x)\n",
    "\n",
    "# following slope intercept form \n",
    "print(f\"formula: y = {m}x + {b}\") \n",
    "print(f\"From {m} as the slope in regression formula, we can easily infer that there is very minimum relationship between the Type and Time of contracts\") "
   ]
  },
  {
   "cell_type": "code",
   "execution_count": 61,
   "metadata": {},
   "outputs": [
    {
     "data": {
      "image/png": "[encoded data removed]",
      "text/plain": [
       "<Figure size 432x288 with 1 Axes>"
      ]
     },
     "metadata": {},
     "output_type": "display_data"
    }
   ],
   "source": [
    "# Plot the Original Model (Black) and Predictions (Blue)\n",
    "plt.scatter(x, y+.5,  color='black')\n",
    "plt.plot(x, predictions, color='blue',linewidth=3)\n",
    "plt.show()"
   ]
  },
  {
   "cell_type": "markdown",
   "metadata": {},
   "source": [
    "  - As a linear regression graph clearly tells, there is no way we can assume (and eventually, impute) any conract time data based on their contract type. As a result, my hypothesis is rejected."
   ]
  },
  {
   "cell_type": "code",
   "execution_count": 62,
   "metadata": {},
   "outputs": [],
   "source": [
    "# Converting not-given values to 'non-specified' for the integrity of data\n",
    "df['ContractTime_xNormalized'] = df['ContractTime_xNormalized'].replace({'NONSPECIFIED':'NON-SPECIFIED'},inplace=False)"
   ]
  },
  {
   "cell_type": "code",
   "execution_count": 63,
   "metadata": {},
   "outputs": [
    {
     "data": {
      "text/plain": [
       "PERMANENT        26403\n",
       "NON-SPECIFIED     9930\n",
       "CONTRACT          3829\n",
       "Name: ContractTime_xNormalized, dtype: int64"
      ]
     },
     "execution_count": 63,
     "metadata": {},
     "output_type": "execute_result"
    }
   ],
   "source": [
    "df['ContractTime_xNormalized'].value_counts()"
   ]
  },
  {
   "cell_type": "code",
   "execution_count": 64,
   "metadata": {},
   "outputs": [],
   "source": [
    "df['ContractType_xNormalized'] = df['ContractType_xNormalized'].replace({'NONSPECIFIED':'NON-SPECIFIED'},inplace=False)"
   ]
  },
  {
   "cell_type": "code",
   "execution_count": 65,
   "metadata": {},
   "outputs": [
    {
     "data": {
      "text/plain": [
       "NON-SPECIFIED    30491\n",
       "FULLTIME          9073\n",
       "PARTTIME           598\n",
       "Name: ContractType_xNormalized, dtype: int64"
      ]
     },
     "execution_count": 65,
     "metadata": {},
     "output_type": "execute_result"
    }
   ],
   "source": [
    "df['ContractType_xNormalized'].value_counts()"
   ]
  },
  {
   "cell_type": "markdown",
   "metadata": {},
   "source": [
    "### Source"
   ]
  },
  {
   "cell_type": "code",
   "execution_count": 66,
   "metadata": {},
   "outputs": [
    {
     "name": "stdout",
     "output_type": "stream",
     "text": [
      "The stats for the column >>Source_x and Source_xNormalized << includes:\n",
      "96 different groups in the current Source_x data set\n",
      "96 different groups after normalization in Source_xNormalized dataset\n"
     ]
    }
   ],
   "source": [
    "which_categorical_var('Source_x')"
   ]
  },
  {
   "cell_type": "code",
   "execution_count": 67,
   "metadata": {},
   "outputs": [
    {
     "name": "stdout",
     "output_type": "stream",
     "text": [
      "Number of lowfreq_data 7\n",
      "Number of highfreq_data 89\n"
     ]
    }
   ],
   "source": [
    "match_data=match_highfreq_To_lowfreq(df.Source_xNormalized, 0.95, 1)"
   ]
  },
  {
   "cell_type": "code",
   "execution_count": 68,
   "metadata": {},
   "outputs": [],
   "source": [
    "# replace lower frequent with higher frequent\n",
    "df['Source_resovle_similar'] = df.Source_xNormalized.replace(match_data)"
   ]
  },
  {
   "cell_type": "code",
   "execution_count": 69,
   "metadata": {},
   "outputs": [
    {
     "name": "stdout",
     "output_type": "stream",
     "text": [
      "Number of lowfreq_data 7\n",
      "Number of highfreq_data 89\n"
     ]
    },
    {
     "data": {
      "text/plain": [
       "{}"
      ]
     },
     "execution_count": 69,
     "metadata": {},
     "output_type": "execute_result"
    }
   ],
   "source": [
    "match_highfreq_To_lowfreq(df.Source_xNormalized, 0.95, 1)"
   ]
  },
  {
   "cell_type": "code",
   "execution_count": 70,
   "metadata": {},
   "outputs": [],
   "source": [
    "newSource = []\n",
    "for i in df['Source_resovle_similar']:\n",
    "    if i == 'non-specified':\n",
    "        i = i\n",
    "    elif re.findall(r'(.*\\.\\w+)$',i):\n",
    "        i = i\n",
    "    else:\n",
    "        i = f\"Company name is '{i}' but website address is not provided.\"\n",
    "    newSource.append(i)\n",
    "newSource = newSource\n",
    "SourceS = pd.Series(data=newSource, index = df.index)\n",
    "df['newSource'] = SourceS"
   ]
  },
  {
   "cell_type": "code",
   "execution_count": 71,
   "metadata": {},
   "outputs": [
    {
     "name": "stdout",
     "output_type": "stream",
     "text": [
      "There are 3083 source entries for which the company name is provided but website address is not available.\n",
      "Those items are marked in dataframe\n"
     ]
    }
   ],
   "source": [
    "print(f\"There are {len(df[df['newSource'].str.contains('website')])} source entries for which the company name is provided but website address is not available.\\nThose items are marked in dataframe\")"
   ]
  },
  {
   "cell_type": "markdown",
   "metadata": {},
   "source": [
    "### Title"
   ]
  },
  {
   "cell_type": "code",
   "execution_count": 72,
   "metadata": {},
   "outputs": [
    {
     "name": "stdout",
     "output_type": "stream",
     "text": [
      "The stats for the column >>Title_x and Title_xNormalized << includes:\n",
      "40160 different groups in the current Title_x data set\n",
      "40142 different groups after normalization in Title_xNormalized dataset\n"
     ]
    }
   ],
   "source": [
    "which_categorical_var('Title_x')"
   ]
  },
  {
   "cell_type": "code",
   "execution_count": 73,
   "metadata": {},
   "outputs": [
    {
     "data": {
      "text/plain": [
       "Pensions Administrators (Temporary/Contract)                    2\n",
       "Senior Financial Advisor                                        2\n",
       "Senior / Lead Software Engineer (Visual Studio VBNET)           1\n",
       "USED CAR SALES EXECUTIVE, BIRMINGHAM                            1\n",
       "Reception Manager/Front of House Manager                        1\n",
       "                                                               ..\n",
       "Pub Manager – Fresh & Seasonal Menus – Nr Basingstoke  ****k    1\n",
       "C Net Software Developer, Peterborough ****k                    1\n",
       "Desktop/ Second Line support/ Field Service engineer            1\n",
       "Engineer Project ****                                           1\n",
       "Aerodynamicist                                                  1\n",
       "Name: Title_x, Length: 40160, dtype: int64"
      ]
     },
     "execution_count": 73,
     "metadata": {},
     "output_type": "execute_result"
    }
   ],
   "source": [
    "(df.Title_x.value_counts())"
   ]
  },
  {
   "cell_type": "code",
   "execution_count": 74,
   "metadata": {},
   "outputs": [
    {
     "name": "stdout",
     "output_type": "stream",
     "text": [
      "Number of lowfreq_data 40142\n",
      "Number of highfreq_data 0\n"
     ]
    }
   ],
   "source": [
    "match_data=match_highfreq_To_lowfreq(df.Title_xNormalized, 0.95, 1)"
   ]
  },
  {
   "cell_type": "code",
   "execution_count": 75,
   "metadata": {},
   "outputs": [],
   "source": [
    "df['Title_resovle_similar'] = df.Title_xNormalized.replace(match_data)"
   ]
  },
  {
   "cell_type": "markdown",
   "metadata": {},
   "source": [
    "    - There is no further change can be done to Title column."
   ]
  },
  {
   "cell_type": "markdown",
   "metadata": {},
   "source": [
    "### Location"
   ]
  },
  {
   "cell_type": "code",
   "execution_count": 76,
   "metadata": {},
   "outputs": [
    {
     "name": "stdout",
     "output_type": "stream",
     "text": [
      "The stats for the column >>Location_x and Location_xNormalized << includes:\n",
      "489 different groups in the current Location_x data set\n",
      "484 different groups after normalization in Location_xNormalized dataset\n"
     ]
    }
   ],
   "source": [
    "which_categorical_var('Location_x')"
   ]
  },
  {
   "cell_type": "markdown",
   "metadata": {},
   "source": [
    "    - Location column looks good with 484 different groups and 489 high freq data after normalisation."
   ]
  },
  {
   "cell_type": "markdown",
   "metadata": {},
   "source": [
    "### Company"
   ]
  },
  {
   "cell_type": "code",
   "execution_count": 77,
   "metadata": {},
   "outputs": [
    {
     "name": "stdout",
     "output_type": "stream",
     "text": [
      "The stats for the column >>Company_x and Company_xNormalized << includes:\n",
      "7090 different groups in the current Company_x data set\n",
      "6669 different groups after normalization in Company_xNormalized dataset\n"
     ]
    }
   ],
   "source": [
    "which_categorical_var('Company_x')"
   ]
  },
  {
   "cell_type": "code",
   "execution_count": 78,
   "metadata": {},
   "outputs": [
    {
     "name": "stdout",
     "output_type": "stream",
     "text": [
      "Number of lowfreq_data 5190\n",
      "Number of highfreq_data 1479\n",
      "SOLUTION RECRUITMENT : SOLUTIONS RECRUITMENT 0.975609756097561\n",
      "SIGMAR RECRUITMENT : SIGMA RECRUITMENT 0.9714285714285714\n",
      "HOLT RECRUITMENT : HOT RECRUITMENT 0.967741935483871\n",
      "RANDSTAD FINANCIAL PROFESSIONAL : RANDSTAD FINANCIAL & PROFESSIONAL 0.96875\n",
      "HW ASSOCIATES RECRUITMENT LTD : HWA ASSOCIATES RECRUITMENT LTD 0.9830508474576272\n",
      "BADENOCHCLARK : BADENOCH CLARK 0.9629629629629629\n",
      "ADDITIONAL RESOURCE : ADDITIONAL RESOURCES 0.9743589743589743\n",
      "BERKELEY SCOTT PUBS BARS RESTAURANTS : BERKELEY SCOTT PUBS BARS & RESTAURANTS 0.972972972972973\n",
      "EASY WEB RECRUITMENT : EASYWEB RECRUITMENT 0.9743589743589743\n",
      "PROSPER RECRUITMENT : PROSPERO RECRUITMENT 0.9743589743589743\n",
      "COYLE PERSONNEL PLC : COYLES PERSONNEL PLC 0.9743589743589743\n",
      "JFL SEARCH & SELECTION : JFL SEARCH SELECTION 0.9523809523809523\n",
      "RECRUITMENT REVOLUTION.COM LTD : RECRUITMENTREVOLUTION.COM LTD 0.9830508474576272\n",
      "EDSTAFF LTD : EDUSTAFF LTD 0.9565217391304348\n",
      "SOLUTIONS 4 RECRUITMENT : SOLUTIONS RECRUITMENT 0.9545454545454546\n",
      "RETRACK PERSONNEL : RE TRACK PERSONNEL 0.9714285714285714\n",
      "SOLUTIONS 2 RECRUITMENT : SOLUTIONS RECRUITMENT 0.9545454545454546\n",
      "JAMIE S ITALIAN : JAMIES ITALIAN 0.9655172413793104\n",
      "BSC SALES SPECIALISTS : BMS SALES SPECIALISTS 0.9523809523809523\n",
      "EXIGO RECRUITMENT LTD : ELIGO RECRUITMENT LTD 0.9523809523809523\n",
      "JANE LEWIS HEALTH & SOCIAL CARE : JANE LEWIS HEALTH SOCIAL CARE 0.9666666666666667\n",
      "CPL HEATHCARE : CPL HEALTHCARE 0.9629629629629629\n",
      "HARNHAM SEARCH SELECTION : HARNHAM SEARCH & SELECTION 0.96\n",
      "AM RECRUITMENT : JAM RECRUITMENT 0.9655172413793104\n",
      ".MICHAEL PAGE FINANCIAL SERVICES : MICHAEL PAGE FINANCIAL SERVICES 0.9841269841269841\n",
      "ADMIRAL HOTELS RESTAURANTS : ADMIRAL HOTELS & RESTAURANTS 0.9629629629629629\n",
      "THREEPEOPLE : THREE PEOPLE 0.9565217391304348\n",
      "ANDERS ELITE : ANDERSELITE 0.9565217391304348\n",
      "PEOPLESOURCE CONSULTING : PEOPLE SOURCE CONSULTING 0.9787234042553191\n",
      "NON STOP RECRUITMENT : NONSTOP RECRUITMENT 0.9743589743589743\n",
      "COBURGBANKS : COBURG BANKS 0.9565217391304348\n",
      "RESOURCE GROUP : RESOURCES GROUP 0.9655172413793104\n",
      "CCITY IT RECRUITMENT : C CITY IT RECRUITMENT 0.975609756097561\n",
      "BOND RECRUIMENT : BOND RECRUITMENT 0.967741935483871\n",
      "PEOPLE COM LTD : PEOPLECOM LTD 0.9629629629629629\n",
      "RECRUITMENTCONSULATANT.COM : RECRUITMENTCONSULTANT.COM 0.9803921568627451\n",
      "ANGLIAN HOME IMPROVEMENT : ANGLIAN HOME IMPROVEMENTS 0.9795918367346939\n",
      "NON STOP RECRUITMENT LTD : NONSTOP RECRUITMENT LTD 0.9787234042553191\n",
      "OCC COMPUTER PERSONNEL : OCC COMPUTER PERSONNELRI 0.9565217391304348\n",
      "KIRKHAMYOUNG LTD : KIRKHAM YOUNG LTD 0.9696969696969697\n"
     ]
    }
   ],
   "source": [
    "match_data=match_highfreq_To_lowfreq(df.Company_xNormalized, 0.95, 1)"
   ]
  },
  {
   "cell_type": "code",
   "execution_count": 79,
   "metadata": {},
   "outputs": [],
   "source": [
    "df['Company_resovle_similar'] = df.Company_xNormalized.replace(match_data)"
   ]
  },
  {
   "cell_type": "code",
   "execution_count": 80,
   "metadata": {},
   "outputs": [
    {
     "name": "stdout",
     "output_type": "stream",
     "text": [
      "Number of lowfreq_data 5150\n",
      "Number of highfreq_data 1479\n"
     ]
    },
    {
     "data": {
      "text/plain": [
       "{}"
      ]
     },
     "execution_count": 80,
     "metadata": {},
     "output_type": "execute_result"
    }
   ],
   "source": [
    "match_highfreq_To_lowfreq(df.Company_resovle_similar, 0.95, 1)"
   ]
  },
  {
   "cell_type": "markdown",
   "metadata": {},
   "source": [
    "### Open and Close Dates"
   ]
  },
  {
   "cell_type": "code",
   "execution_count": 81,
   "metadata": {},
   "outputs": [],
   "source": [
    "# Create a function to manage day suffix for 1st, 2nd, and 3rd and rest (th) day of each month\n",
    "def suffix(d):\n",
    "    return 'th' if 11<=d<=13 else {1:'st',2:'nd',3:'rd'}.get(d%10, 'th')\n",
    "\n",
    "def custom_strftime(format, t):\n",
    "    return t.strftime(format).replace('{S}', str(t.day) + suffix(t.day))"
   ]
  },
  {
   "cell_type": "code",
   "execution_count": 82,
   "metadata": {},
   "outputs": [],
   "source": [
    "# Following lines will match the date time based on the assessment's requirements\n",
    "\n",
    "formatted_OpenDate=[]\n",
    "for i in df[\"OpenDate_x\"]:\n",
    "    try:\n",
    "        new_open_date = custom_strftime('%-I%p, {S} %B %Y', datetime.strptime(i, '%Y%m%dT%H%M%S'))\n",
    "    except ValueError:\n",
    "        new_open_date = 0\n",
    "    formatted_OpenDate.append(new_open_date)\n",
    "formatted_OpenDate = formatted_OpenDate\n",
    "openDateS = pd.Series(data=formatted_OpenDate, index = df.index)\n",
    "df['newOpenDate'] = openDateS"
   ]
  },
  {
   "cell_type": "code",
   "execution_count": 83,
   "metadata": {},
   "outputs": [],
   "source": [
    "# Following lines will match the date time based on the assessment's requirements\n",
    "\n",
    "formatted_CloseDate=[]\n",
    "for i in df[\"CloseDate_x\"]:\n",
    "    try:\n",
    "        new_close_date = custom_strftime('%-I%p, {S} %B %Y', datetime.strptime(i, '%Y%m%dT%H%M%S'))\n",
    "    except ValueError:\n",
    "        new_close_date = 0\n",
    "    formatted_CloseDate.append(new_close_date)\n",
    "formatted_CloseDate = formatted_CloseDate\n",
    "closeDateS = pd.Series(data=formatted_CloseDate, index = df.index)\n",
    "df['newCloseDate'] = closeDateS"
   ]
  },
  {
   "cell_type": "markdown",
   "metadata": {
    "id": "-cd1Ab5aoa4D"
   },
   "source": [
    "## Saving data\n",
    "Save the cleaned data"
   ]
  },
  {
   "cell_type": "code",
   "execution_count": 84,
   "metadata": {
    "id": "G6MTXL5zoa4D"
   },
   "outputs": [
    {
     "name": "stdout",
     "output_type": "stream",
     "text": [
      "<class 'pandas.core.frame.DataFrame'>\n",
      "Int64Index: 40162 entries, 0 to 40161\n",
      "Data columns (total 25 columns):\n",
      " #   Column                    Non-Null Count  Dtype  \n",
      "---  ------                    --------------  -----  \n",
      " 0   Id                        40162 non-null  int64  \n",
      " 1   Title_x                   40162 non-null  object \n",
      " 2   Location_x                40162 non-null  object \n",
      " 3   Company_x                 40162 non-null  object \n",
      " 4   ContractType_x            40162 non-null  object \n",
      " 5   ContractTime_x            40162 non-null  object \n",
      " 6   Category_x                40162 non-null  object \n",
      " 7   OpenDate_x                40162 non-null  object \n",
      " 8   CloseDate_x               40162 non-null  object \n",
      " 9   Source_x                  40162 non-null  object \n",
      " 10  normedSalary              40162 non-null  float64\n",
      " 11  ContractType_xNormalized  40162 non-null  object \n",
      " 12  ContractTime_xNormalized  40162 non-null  object \n",
      " 13  conTypeS                  40162 non-null  float32\n",
      " 14  conTimeS                  40162 non-null  float32\n",
      " 15  Source_xNormalized        40162 non-null  object \n",
      " 16  Source_resovle_similar    40162 non-null  object \n",
      " 17  newSource                 40162 non-null  object \n",
      " 18  Title_xNormalized         40162 non-null  object \n",
      " 19  Title_resovle_similar     40162 non-null  object \n",
      " 20  Location_xNormalized      40162 non-null  object \n",
      " 21  Company_xNormalized       40162 non-null  object \n",
      " 22  Company_resovle_similar   40162 non-null  object \n",
      " 23  newOpenDate               40162 non-null  object \n",
      " 24  newCloseDate              40162 non-null  object \n",
      "dtypes: float32(2), float64(1), int64(1), object(21)\n",
      "memory usage: 7.7+ MB\n"
     ]
    }
   ],
   "source": [
    "df.info()"
   ]
  },
  {
   "cell_type": "code",
   "execution_count": 85,
   "metadata": {},
   "outputs": [],
   "source": [
    "df = df.fillna('NON-SPECIFIED')"
   ]
  },
  {
   "cell_type": "code",
   "execution_count": 86,
   "metadata": {},
   "outputs": [],
   "source": [
    "df.rename(columns = {'Id':'Id',\n",
    "'Title_resovle_similar':'Title',\n",
    "'Location_xNormalized':'Location',\n",
    "'Company_resovle_similar':'Company',\n",
    "'ContractType_xNormalized':'ContractType',\n",
    "'ContractTime_xNormalized':'ContractTime',\n",
    "'Category_x':'Category',\n",
    "'normedSalary':'Salary',\n",
    "'newOpenDate':'OpenDate',\n",
    "'newCloseDate':'CloseDate',\n",
    "'newSource':'Source'}, inplace = True)"
   ]
  },
  {
   "cell_type": "code",
   "execution_count": 87,
   "metadata": {},
   "outputs": [],
   "source": [
    "final_df = df[['Id',\n",
    "'Title',\n",
    "'Location',\n",
    "'Company',\n",
    "'ContractType',\n",
    "'ContractTime',\n",
    "'Category',\n",
    "'Salary',\n",
    "'OpenDate',\n",
    "'CloseDate',\n",
    "'Source']]"
   ]
  },
  {
   "cell_type": "code",
   "execution_count": 88,
   "metadata": {},
   "outputs": [
    {
     "name": "stdout",
     "output_type": "stream",
     "text": [
      "<class 'pandas.core.frame.DataFrame'>\n",
      "Int64Index: 40162 entries, 0 to 40161\n",
      "Data columns (total 11 columns):\n",
      " #   Column        Non-Null Count  Dtype  \n",
      "---  ------        --------------  -----  \n",
      " 0   Id            40162 non-null  int64  \n",
      " 1   Title         40162 non-null  object \n",
      " 2   Location      40162 non-null  object \n",
      " 3   Company       40162 non-null  object \n",
      " 4   ContractType  40162 non-null  object \n",
      " 5   ContractTime  40162 non-null  object \n",
      " 6   Category      40162 non-null  object \n",
      " 7   Salary        40162 non-null  float64\n",
      " 8   OpenDate      40162 non-null  object \n",
      " 9   CloseDate     40162 non-null  object \n",
      " 10  Source        40162 non-null  object \n",
      "dtypes: float64(1), int64(1), object(9)\n",
      "memory usage: 3.7+ MB\n"
     ]
    }
   ],
   "source": [
    "final_df.info()"
   ]
  },
  {
   "cell_type": "code",
   "execution_count": 89,
   "metadata": {},
   "outputs": [],
   "source": [
    "final_df.to_csv(r'dataset1_solution.csv', index = False)"
   ]
  },
  {
   "cell_type": "markdown",
   "metadata": {
    "id": "8kKFceqLoa4E"
   },
   "source": [
    "## Summary\n",
    "Give a short summary and anything you would like to talk about assessment 2 part 1 here."
   ]
  },
  {
   "cell_type": "markdown",
   "metadata": {
    "id": "bS4M54GIoa4E"
   },
   "source": [
    "  - A huge number of data was missing. In certain cases, I was able to impute based on similar dara category in other rows. For example, having contract type and contract time cleansed, I was able to calculate 'salary' mean accordingly and as a result, I did impute missing rows. \n",
    "    - However, there were numerous missing rows in Contract type and time. Intuition called that there might be a correlation between the two columns. In order to test the hypothesis, I did run a linear regression which resulted in 0.09 slope. As a result, my hypothesis was rejected. Therefore, missing contract type and times were labeled as 'non-specified'.\n",
    "    - Furthermore, drawing the boxplot illustrated a huge number of outliers which were removed from the dataset.\n",
    "    - As the final outcome, we have a cleaned dataset stored in 'dataset1_solution.csv' which includes 11 columns and 40162 rows of reliable data.\n",
    "    - During the wrangling process, few temporary dataframes and series were also generated."
   ]
  },
  {
   "cell_type": "code",
   "execution_count": 90,
   "metadata": {},
   "outputs": [
    {
     "data": {
      "text/html": [
       "<div>\n",
       "<style scoped>\n",
       "    .dataframe tbody tr th:only-of-type {\n",
       "        vertical-align: middle;\n",
       "    }\n",
       "\n",
       "    .dataframe tbody tr th {\n",
       "        vertical-align: top;\n",
       "    }\n",
       "\n",
       "    .dataframe thead th {\n",
       "        text-align: right;\n",
       "    }\n",
       "</style>\n",
       "<table border=\"1\" class=\"dataframe\">\n",
       "  <thead>\n",
       "    <tr style=\"text-align: right;\">\n",
       "      <th></th>\n",
       "      <th>Title</th>\n",
       "      <th>Location</th>\n",
       "      <th>Company</th>\n",
       "      <th>ContractType</th>\n",
       "      <th>ContractTime</th>\n",
       "      <th>Category</th>\n",
       "      <th>OpenDate</th>\n",
       "      <th>CloseDate</th>\n",
       "      <th>Source</th>\n",
       "    </tr>\n",
       "  </thead>\n",
       "  <tbody>\n",
       "    <tr>\n",
       "      <th>count</th>\n",
       "      <td>40162</td>\n",
       "      <td>40162</td>\n",
       "      <td>40162</td>\n",
       "      <td>40162</td>\n",
       "      <td>40162</td>\n",
       "      <td>40162</td>\n",
       "      <td>40162</td>\n",
       "      <td>40162</td>\n",
       "      <td>40162</td>\n",
       "    </tr>\n",
       "    <tr>\n",
       "      <th>unique</th>\n",
       "      <td>40142</td>\n",
       "      <td>484</td>\n",
       "      <td>6629</td>\n",
       "      <td>3</td>\n",
       "      <td>3</td>\n",
       "      <td>8</td>\n",
       "      <td>2194</td>\n",
       "      <td>2409</td>\n",
       "      <td>96</td>\n",
       "    </tr>\n",
       "    <tr>\n",
       "      <th>top</th>\n",
       "      <td>SENIOR ELECTRICAL &amp; CONTROLS ENGINEER</td>\n",
       "      <td>UK</td>\n",
       "      <td>NONSPECIFIED</td>\n",
       "      <td>NON-SPECIFIED</td>\n",
       "      <td>PERMANENT</td>\n",
       "      <td>IT Jobs</td>\n",
       "      <td>3PM, 15th April 2012</td>\n",
       "      <td>12AM, 8th December 2013</td>\n",
       "      <td>TOTALJOBS.COM</td>\n",
       "    </tr>\n",
       "    <tr>\n",
       "      <th>freq</th>\n",
       "      <td>2</td>\n",
       "      <td>6116</td>\n",
       "      <td>2717</td>\n",
       "      <td>30491</td>\n",
       "      <td>26403</td>\n",
       "      <td>11146</td>\n",
       "      <td>36</td>\n",
       "      <td>35</td>\n",
       "      <td>7520</td>\n",
       "    </tr>\n",
       "  </tbody>\n",
       "</table>\n",
       "</div>"
      ],
      "text/plain": [
       "                                        Title Location       Company  \\\n",
       "count                                   40162    40162         40162   \n",
       "unique                                  40142      484          6629   \n",
       "top     SENIOR ELECTRICAL & CONTROLS ENGINEER       UK  NONSPECIFIED   \n",
       "freq                                        2     6116          2717   \n",
       "\n",
       "         ContractType ContractTime Category              OpenDate  \\\n",
       "count           40162        40162    40162                 40162   \n",
       "unique              3            3        8                  2194   \n",
       "top     NON-SPECIFIED    PERMANENT  IT Jobs  3PM, 15th April 2012   \n",
       "freq            30491        26403    11146                    36   \n",
       "\n",
       "                      CloseDate         Source  \n",
       "count                     40162          40162  \n",
       "unique                     2409             96  \n",
       "top     12AM, 8th December 2013  TOTALJOBS.COM  \n",
       "freq                         35           7520  "
      ]
     },
     "execution_count": 90,
     "metadata": {},
     "output_type": "execute_result"
    }
   ],
   "source": [
    "final_df.describe(include=['O'])"
   ]
  },
  {
   "cell_type": "code",
   "execution_count": null,
   "metadata": {},
   "outputs": [],
   "source": []
  }
 ],
 "metadata": {
  "colab": {
   "name": "task1.ipynb",
   "provenance": []
  },
  "kernelspec": {
   "display_name": "Python 3",
   "language": "python",
   "name": "python3"
  },
  "language_info": {
   "codemirror_mode": {
    "name": "ipython",
    "version": 3
   },
   "file_extension": ".py",
   "mimetype": "text/x-python",
   "name": "python",
   "nbconvert_exporter": "python",
   "pygments_lexer": "ipython3",
   "version": "3.8.5"
  }
 },
 "nbformat": 4,
 "nbformat_minor": 1
}
